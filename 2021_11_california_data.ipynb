{
 "cells": [
  {
   "cell_type": "markdown",
   "id": "8de17635",
   "metadata": {},
   "source": [
    "# Etude sur Les méthodes d'ensemble  \"California Housing Dataset\"\n",
    "# 1 - la préparation des données"
   ]
  },
  {
   "cell_type": "markdown",
   "id": "7028162c",
   "metadata": {},
   "source": [
    "Trois Jupyter Notebooks organisés de la manière suivante :\n",
    "    \n",
    "- Le premier Notebook effectue la préparation des données c'est-à-dire qu'il charge l'intégralité du jeu de données (ici le California Housing Dataset), qu'il effectue le train_test_split(), etc\n",
    "\n",
    "- Le deuxième Notebook charge le jeu d'apprentissage, entraine le modèle sur ces données en utilisant une technique de validation croisée et une recherche par grille pour l'optimisation des hyperparamètres. Il évalue et affiche enfin les performances du modèle entrainé sur le jeu d'apprentissage.\n",
    "\n",
    "- Le troisième Notebook charge les données de test puis évalue sur ces données les performances du modèle entraîné dans le Notebook précédent. Il affiche enfin ces performances."
   ]
  },
  {
   "cell_type": "markdown",
   "id": "bfa3afb7",
   "metadata": {},
   "source": [
    "### 1 - import librarys"
   ]
  },
  {
   "cell_type": "code",
   "execution_count": 1,
   "id": "04e40e8b",
   "metadata": {},
   "outputs": [],
   "source": [
    "import pandas as pd\n",
    "import numpy as np\n",
    "import matplotlib.pyplot as plt\n",
    "import seaborn as sns\n",
    "from sklearn.datasets import fetch_california_housing\n",
    "from sklearn.model_selection import train_test_split\n",
    "from sklearn.preprocessing import StandardScaler"
   ]
  },
  {
   "cell_type": "markdown",
   "id": "99152105",
   "metadata": {},
   "source": [
    "### 2 - set option pour l'affichage"
   ]
  },
  {
   "cell_type": "code",
   "execution_count": 2,
   "id": "dafb2fc8",
   "metadata": {},
   "outputs": [],
   "source": [
    "pd.set_option(\"max_columns\", None)\n",
    "pd.set_option(\"max_colwidth\", None)\n",
    "pd.set_option(\"max_row\", 500)"
   ]
  },
  {
   "cell_type": "markdown",
   "id": "3f2036af",
   "metadata": {},
   "source": [
    "### 3 - Chargement des données du California Housing Dataset Boston"
   ]
  },
  {
   "cell_type": "code",
   "execution_count": 3,
   "id": "afc98286",
   "metadata": {},
   "outputs": [],
   "source": [
    "california = fetch_california_housing()"
   ]
  },
  {
   "cell_type": "code",
   "execution_count": 4,
   "id": "9b7fd2ad",
   "metadata": {},
   "outputs": [],
   "source": [
    "#print(california.data)\n",
    "#print(california.target)"
   ]
  },
  {
   "cell_type": "markdown",
   "id": "4cf1adb1",
   "metadata": {},
   "source": [
    "### 4 - Afficher la description des données en utilisant l'attribut DESCR"
   ]
  },
  {
   "cell_type": "code",
   "execution_count": 5,
   "id": "72a3c832",
   "metadata": {},
   "outputs": [
    {
     "name": "stdout",
     "output_type": "stream",
     "text": [
      ".. _california_housing_dataset:\n",
      "\n",
      "California Housing dataset\n",
      "--------------------------\n",
      "\n",
      "**Data Set Characteristics:**\n",
      "\n",
      "    :Number of Instances: 20640\n",
      "\n",
      "    :Number of Attributes: 8 numeric, predictive attributes and the target\n",
      "\n",
      "    :Attribute Information:\n",
      "        - MedInc        median income in block\n",
      "        - HouseAge      median house age in block\n",
      "        - AveRooms      average number of rooms\n",
      "        - AveBedrms     average number of bedrooms\n",
      "        - Population    block population\n",
      "        - AveOccup      average house occupancy\n",
      "        - Latitude      house block latitude\n",
      "        - Longitude     house block longitude\n",
      "\n",
      "    :Missing Attribute Values: None\n",
      "\n",
      "This dataset was obtained from the StatLib repository.\n",
      "http://lib.stat.cmu.edu/datasets/\n",
      "\n",
      "The target variable is the median house value for California districts.\n",
      "\n",
      "This dataset was derived from the 1990 U.S. census, using one row per census\n",
      "block group. A block group is the smallest geographical unit for which the U.S.\n",
      "Census Bureau publishes sample data (a block group typically has a population\n",
      "of 600 to 3,000 people).\n",
      "\n",
      "It can be downloaded/loaded using the\n",
      ":func:`sklearn.datasets.fetch_california_housing` function.\n",
      "\n",
      ".. topic:: References\n",
      "\n",
      "    - Pace, R. Kelley and Ronald Barry, Sparse Spatial Autoregressions,\n",
      "      Statistics and Probability Letters, 33 (1997) 291-297\n",
      "\n"
     ]
    }
   ],
   "source": [
    "print(california.DESCR)"
   ]
  },
  {
   "cell_type": "markdown",
   "id": "b2844f0c",
   "metadata": {},
   "source": [
    "### 5 - affichage de DataFrame"
   ]
  },
  {
   "cell_type": "code",
   "execution_count": 6,
   "id": "a5881a50",
   "metadata": {},
   "outputs": [],
   "source": [
    "df = pd.DataFrame(california.data, columns=california.feature_names)"
   ]
  },
  {
   "cell_type": "markdown",
   "id": "d6673f17",
   "metadata": {},
   "source": [
    "Je crée une copie pour data + target"
   ]
  },
  {
   "cell_type": "code",
   "execution_count": 7,
   "id": "298a573b",
   "metadata": {},
   "outputs": [
    {
     "data": {
      "text/html": [
       "<div>\n",
       "<style scoped>\n",
       "    .dataframe tbody tr th:only-of-type {\n",
       "        vertical-align: middle;\n",
       "    }\n",
       "\n",
       "    .dataframe tbody tr th {\n",
       "        vertical-align: top;\n",
       "    }\n",
       "\n",
       "    .dataframe thead th {\n",
       "        text-align: right;\n",
       "    }\n",
       "</style>\n",
       "<table border=\"1\" class=\"dataframe\">\n",
       "  <thead>\n",
       "    <tr style=\"text-align: right;\">\n",
       "      <th></th>\n",
       "      <th>MedInc</th>\n",
       "      <th>HouseAge</th>\n",
       "      <th>AveRooms</th>\n",
       "      <th>AveBedrms</th>\n",
       "      <th>Population</th>\n",
       "      <th>AveOccup</th>\n",
       "      <th>Latitude</th>\n",
       "      <th>Longitude</th>\n",
       "      <th>MedHouseVal</th>\n",
       "    </tr>\n",
       "  </thead>\n",
       "  <tbody>\n",
       "    <tr>\n",
       "      <th>0</th>\n",
       "      <td>8.3252</td>\n",
       "      <td>41.0</td>\n",
       "      <td>6.984127</td>\n",
       "      <td>1.023810</td>\n",
       "      <td>322.0</td>\n",
       "      <td>2.555556</td>\n",
       "      <td>37.88</td>\n",
       "      <td>-122.23</td>\n",
       "      <td>4.526</td>\n",
       "    </tr>\n",
       "    <tr>\n",
       "      <th>1</th>\n",
       "      <td>8.3014</td>\n",
       "      <td>21.0</td>\n",
       "      <td>6.238137</td>\n",
       "      <td>0.971880</td>\n",
       "      <td>2401.0</td>\n",
       "      <td>2.109842</td>\n",
       "      <td>37.86</td>\n",
       "      <td>-122.22</td>\n",
       "      <td>3.585</td>\n",
       "    </tr>\n",
       "    <tr>\n",
       "      <th>2</th>\n",
       "      <td>7.2574</td>\n",
       "      <td>52.0</td>\n",
       "      <td>8.288136</td>\n",
       "      <td>1.073446</td>\n",
       "      <td>496.0</td>\n",
       "      <td>2.802260</td>\n",
       "      <td>37.85</td>\n",
       "      <td>-122.24</td>\n",
       "      <td>3.521</td>\n",
       "    </tr>\n",
       "    <tr>\n",
       "      <th>3</th>\n",
       "      <td>5.6431</td>\n",
       "      <td>52.0</td>\n",
       "      <td>5.817352</td>\n",
       "      <td>1.073059</td>\n",
       "      <td>558.0</td>\n",
       "      <td>2.547945</td>\n",
       "      <td>37.85</td>\n",
       "      <td>-122.25</td>\n",
       "      <td>3.413</td>\n",
       "    </tr>\n",
       "    <tr>\n",
       "      <th>4</th>\n",
       "      <td>3.8462</td>\n",
       "      <td>52.0</td>\n",
       "      <td>6.281853</td>\n",
       "      <td>1.081081</td>\n",
       "      <td>565.0</td>\n",
       "      <td>2.181467</td>\n",
       "      <td>37.85</td>\n",
       "      <td>-122.25</td>\n",
       "      <td>3.422</td>\n",
       "    </tr>\n",
       "  </tbody>\n",
       "</table>\n",
       "</div>"
      ],
      "text/plain": [
       "   MedInc  HouseAge  AveRooms  AveBedrms  Population  AveOccup  Latitude  \\\n",
       "0  8.3252      41.0  6.984127   1.023810       322.0  2.555556     37.88   \n",
       "1  8.3014      21.0  6.238137   0.971880      2401.0  2.109842     37.86   \n",
       "2  7.2574      52.0  8.288136   1.073446       496.0  2.802260     37.85   \n",
       "3  5.6431      52.0  5.817352   1.073059       558.0  2.547945     37.85   \n",
       "4  3.8462      52.0  6.281853   1.081081       565.0  2.181467     37.85   \n",
       "\n",
       "   Longitude  MedHouseVal  \n",
       "0    -122.23        4.526  \n",
       "1    -122.22        3.585  \n",
       "2    -122.24        3.521  \n",
       "3    -122.25        3.413  \n",
       "4    -122.25        3.422  "
      ]
     },
     "execution_count": 7,
     "metadata": {},
     "output_type": "execute_result"
    }
   ],
   "source": [
    "df_price = df.copy()\n",
    "df_price[california.target_names[0]] = california.target\n",
    "df_price.head()"
   ]
  },
  {
   "cell_type": "markdown",
   "id": "fd24e08c",
   "metadata": {},
   "source": [
    "Je vérifie info de DataFrame"
   ]
  },
  {
   "cell_type": "code",
   "execution_count": 8,
   "id": "8b9d6e1a",
   "metadata": {},
   "outputs": [
    {
     "name": "stdout",
     "output_type": "stream",
     "text": [
      "<class 'pandas.core.frame.DataFrame'>\n",
      "RangeIndex: 20640 entries, 0 to 20639\n",
      "Data columns (total 9 columns):\n",
      " #   Column       Non-Null Count  Dtype  \n",
      "---  ------       --------------  -----  \n",
      " 0   MedInc       20640 non-null  float64\n",
      " 1   HouseAge     20640 non-null  float64\n",
      " 2   AveRooms     20640 non-null  float64\n",
      " 3   AveBedrms    20640 non-null  float64\n",
      " 4   Population   20640 non-null  float64\n",
      " 5   AveOccup     20640 non-null  float64\n",
      " 6   Latitude     20640 non-null  float64\n",
      " 7   Longitude    20640 non-null  float64\n",
      " 8   MedHouseVal  20640 non-null  float64\n",
      "dtypes: float64(9)\n",
      "memory usage: 1.4 MB\n"
     ]
    }
   ],
   "source": [
    "df_price.info() # type = float64, pas de null"
   ]
  },
  {
   "cell_type": "code",
   "execution_count": 9,
   "id": "80de2d1d",
   "metadata": {},
   "outputs": [
    {
     "data": {
      "text/plain": [
       "Index(['MedInc', 'HouseAge', 'AveRooms', 'AveBedrms', 'Population', 'AveOccup',\n",
       "       'Latitude', 'Longitude', 'MedHouseVal'],\n",
       "      dtype='object')"
      ]
     },
     "execution_count": 9,
     "metadata": {},
     "output_type": "execute_result"
    }
   ],
   "source": [
    "df_price.columns"
   ]
  },
  {
   "cell_type": "markdown",
   "id": "6e1ad891",
   "metadata": {},
   "source": [
    "Je vérifie describe()"
   ]
  },
  {
   "cell_type": "code",
   "execution_count": 10,
   "id": "2db259fe",
   "metadata": {},
   "outputs": [
    {
     "data": {
      "text/html": [
       "<div>\n",
       "<style scoped>\n",
       "    .dataframe tbody tr th:only-of-type {\n",
       "        vertical-align: middle;\n",
       "    }\n",
       "\n",
       "    .dataframe tbody tr th {\n",
       "        vertical-align: top;\n",
       "    }\n",
       "\n",
       "    .dataframe thead th {\n",
       "        text-align: right;\n",
       "    }\n",
       "</style>\n",
       "<table border=\"1\" class=\"dataframe\">\n",
       "  <thead>\n",
       "    <tr style=\"text-align: right;\">\n",
       "      <th></th>\n",
       "      <th>MedInc</th>\n",
       "      <th>HouseAge</th>\n",
       "      <th>AveRooms</th>\n",
       "      <th>AveBedrms</th>\n",
       "      <th>Population</th>\n",
       "      <th>AveOccup</th>\n",
       "      <th>Latitude</th>\n",
       "      <th>Longitude</th>\n",
       "      <th>MedHouseVal</th>\n",
       "    </tr>\n",
       "  </thead>\n",
       "  <tbody>\n",
       "    <tr>\n",
       "      <th>count</th>\n",
       "      <td>20640.000000</td>\n",
       "      <td>20640.000000</td>\n",
       "      <td>20640.000000</td>\n",
       "      <td>20640.000000</td>\n",
       "      <td>20640.000000</td>\n",
       "      <td>20640.000000</td>\n",
       "      <td>20640.000000</td>\n",
       "      <td>20640.000000</td>\n",
       "      <td>20640.000000</td>\n",
       "    </tr>\n",
       "    <tr>\n",
       "      <th>mean</th>\n",
       "      <td>3.870671</td>\n",
       "      <td>28.639486</td>\n",
       "      <td>5.429000</td>\n",
       "      <td>1.096675</td>\n",
       "      <td>1425.476744</td>\n",
       "      <td>3.070655</td>\n",
       "      <td>35.631861</td>\n",
       "      <td>-119.569704</td>\n",
       "      <td>2.068558</td>\n",
       "    </tr>\n",
       "    <tr>\n",
       "      <th>std</th>\n",
       "      <td>1.899822</td>\n",
       "      <td>12.585558</td>\n",
       "      <td>2.474173</td>\n",
       "      <td>0.473911</td>\n",
       "      <td>1132.462122</td>\n",
       "      <td>10.386050</td>\n",
       "      <td>2.135952</td>\n",
       "      <td>2.003532</td>\n",
       "      <td>1.153956</td>\n",
       "    </tr>\n",
       "    <tr>\n",
       "      <th>min</th>\n",
       "      <td>0.499900</td>\n",
       "      <td>1.000000</td>\n",
       "      <td>0.846154</td>\n",
       "      <td>0.333333</td>\n",
       "      <td>3.000000</td>\n",
       "      <td>0.692308</td>\n",
       "      <td>32.540000</td>\n",
       "      <td>-124.350000</td>\n",
       "      <td>0.149990</td>\n",
       "    </tr>\n",
       "    <tr>\n",
       "      <th>25%</th>\n",
       "      <td>2.563400</td>\n",
       "      <td>18.000000</td>\n",
       "      <td>4.440716</td>\n",
       "      <td>1.006079</td>\n",
       "      <td>787.000000</td>\n",
       "      <td>2.429741</td>\n",
       "      <td>33.930000</td>\n",
       "      <td>-121.800000</td>\n",
       "      <td>1.196000</td>\n",
       "    </tr>\n",
       "    <tr>\n",
       "      <th>50%</th>\n",
       "      <td>3.534800</td>\n",
       "      <td>29.000000</td>\n",
       "      <td>5.229129</td>\n",
       "      <td>1.048780</td>\n",
       "      <td>1166.000000</td>\n",
       "      <td>2.818116</td>\n",
       "      <td>34.260000</td>\n",
       "      <td>-118.490000</td>\n",
       "      <td>1.797000</td>\n",
       "    </tr>\n",
       "    <tr>\n",
       "      <th>75%</th>\n",
       "      <td>4.743250</td>\n",
       "      <td>37.000000</td>\n",
       "      <td>6.052381</td>\n",
       "      <td>1.099526</td>\n",
       "      <td>1725.000000</td>\n",
       "      <td>3.282261</td>\n",
       "      <td>37.710000</td>\n",
       "      <td>-118.010000</td>\n",
       "      <td>2.647250</td>\n",
       "    </tr>\n",
       "    <tr>\n",
       "      <th>max</th>\n",
       "      <td>15.000100</td>\n",
       "      <td>52.000000</td>\n",
       "      <td>141.909091</td>\n",
       "      <td>34.066667</td>\n",
       "      <td>35682.000000</td>\n",
       "      <td>1243.333333</td>\n",
       "      <td>41.950000</td>\n",
       "      <td>-114.310000</td>\n",
       "      <td>5.000010</td>\n",
       "    </tr>\n",
       "  </tbody>\n",
       "</table>\n",
       "</div>"
      ],
      "text/plain": [
       "             MedInc      HouseAge      AveRooms     AveBedrms    Population  \\\n",
       "count  20640.000000  20640.000000  20640.000000  20640.000000  20640.000000   \n",
       "mean       3.870671     28.639486      5.429000      1.096675   1425.476744   \n",
       "std        1.899822     12.585558      2.474173      0.473911   1132.462122   \n",
       "min        0.499900      1.000000      0.846154      0.333333      3.000000   \n",
       "25%        2.563400     18.000000      4.440716      1.006079    787.000000   \n",
       "50%        3.534800     29.000000      5.229129      1.048780   1166.000000   \n",
       "75%        4.743250     37.000000      6.052381      1.099526   1725.000000   \n",
       "max       15.000100     52.000000    141.909091     34.066667  35682.000000   \n",
       "\n",
       "           AveOccup      Latitude     Longitude   MedHouseVal  \n",
       "count  20640.000000  20640.000000  20640.000000  20640.000000  \n",
       "mean       3.070655     35.631861   -119.569704      2.068558  \n",
       "std       10.386050      2.135952      2.003532      1.153956  \n",
       "min        0.692308     32.540000   -124.350000      0.149990  \n",
       "25%        2.429741     33.930000   -121.800000      1.196000  \n",
       "50%        2.818116     34.260000   -118.490000      1.797000  \n",
       "75%        3.282261     37.710000   -118.010000      2.647250  \n",
       "max     1243.333333     41.950000   -114.310000      5.000010  "
      ]
     },
     "execution_count": 10,
     "metadata": {},
     "output_type": "execute_result"
    }
   ],
   "source": [
    "df_price.describe()"
   ]
  },
  {
   "cell_type": "markdown",
   "id": "feb50b49",
   "metadata": {},
   "source": [
    "### 6 - echantilloage des données"
   ]
  },
  {
   "cell_type": "code",
   "execution_count": 11,
   "id": "c5c7d937",
   "metadata": {},
   "outputs": [],
   "source": [
    "X = california.data\n",
    "y = california.target"
   ]
  },
  {
   "cell_type": "code",
   "execution_count": 12,
   "id": "16128a4a",
   "metadata": {},
   "outputs": [
    {
     "data": {
      "text/plain": [
       "numpy.ndarray"
      ]
     },
     "execution_count": 12,
     "metadata": {},
     "output_type": "execute_result"
    }
   ],
   "source": [
    "type(X)"
   ]
  },
  {
   "cell_type": "code",
   "execution_count": 13,
   "id": "d15ebc9b",
   "metadata": {},
   "outputs": [],
   "source": [
    "X_train, X_test, y_train, y_test = train_test_split(X, y, test_size=0.2, random_state=42)"
   ]
  },
  {
   "cell_type": "code",
   "execution_count": 14,
   "id": "1cb4b8f0",
   "metadata": {},
   "outputs": [
    {
     "data": {
      "text/plain": [
       "((16512, 8), (4128, 8), (16512,), (4128,))"
      ]
     },
     "execution_count": 14,
     "metadata": {},
     "output_type": "execute_result"
    }
   ],
   "source": [
    "X_train.shape, X_test.shape, y_train.shape, y_test.shape"
   ]
  },
  {
   "cell_type": "code",
   "execution_count": 15,
   "id": "acaa78d3",
   "metadata": {},
   "outputs": [],
   "source": [
    "df_train = pd.DataFrame(X_train, columns=california.feature_names)\n",
    "df_train[california.target_names[0]] = y_train"
   ]
  },
  {
   "cell_type": "code",
   "execution_count": 16,
   "id": "c7b4e8b1",
   "metadata": {},
   "outputs": [
    {
     "data": {
      "text/html": [
       "<div>\n",
       "<style scoped>\n",
       "    .dataframe tbody tr th:only-of-type {\n",
       "        vertical-align: middle;\n",
       "    }\n",
       "\n",
       "    .dataframe tbody tr th {\n",
       "        vertical-align: top;\n",
       "    }\n",
       "\n",
       "    .dataframe thead th {\n",
       "        text-align: right;\n",
       "    }\n",
       "</style>\n",
       "<table border=\"1\" class=\"dataframe\">\n",
       "  <thead>\n",
       "    <tr style=\"text-align: right;\">\n",
       "      <th></th>\n",
       "      <th>MedInc</th>\n",
       "      <th>HouseAge</th>\n",
       "      <th>AveRooms</th>\n",
       "      <th>AveBedrms</th>\n",
       "      <th>Population</th>\n",
       "      <th>AveOccup</th>\n",
       "      <th>Latitude</th>\n",
       "      <th>Longitude</th>\n",
       "      <th>MedHouseVal</th>\n",
       "    </tr>\n",
       "  </thead>\n",
       "  <tbody>\n",
       "    <tr>\n",
       "      <th>count</th>\n",
       "      <td>16512.000000</td>\n",
       "      <td>16512.000000</td>\n",
       "      <td>16512.000000</td>\n",
       "      <td>16512.000000</td>\n",
       "      <td>16512.000000</td>\n",
       "      <td>16512.000000</td>\n",
       "      <td>16512.000000</td>\n",
       "      <td>16512.000000</td>\n",
       "      <td>16512.000000</td>\n",
       "    </tr>\n",
       "    <tr>\n",
       "      <th>mean</th>\n",
       "      <td>3.880754</td>\n",
       "      <td>28.608285</td>\n",
       "      <td>5.435235</td>\n",
       "      <td>1.096685</td>\n",
       "      <td>1426.453004</td>\n",
       "      <td>3.096961</td>\n",
       "      <td>35.643149</td>\n",
       "      <td>-119.582290</td>\n",
       "      <td>2.071947</td>\n",
       "    </tr>\n",
       "    <tr>\n",
       "      <th>std</th>\n",
       "      <td>1.904294</td>\n",
       "      <td>12.602499</td>\n",
       "      <td>2.387375</td>\n",
       "      <td>0.433215</td>\n",
       "      <td>1137.056380</td>\n",
       "      <td>11.578744</td>\n",
       "      <td>2.136665</td>\n",
       "      <td>2.005654</td>\n",
       "      <td>1.156226</td>\n",
       "    </tr>\n",
       "    <tr>\n",
       "      <th>min</th>\n",
       "      <td>0.499900</td>\n",
       "      <td>1.000000</td>\n",
       "      <td>0.888889</td>\n",
       "      <td>0.333333</td>\n",
       "      <td>3.000000</td>\n",
       "      <td>0.692308</td>\n",
       "      <td>32.550000</td>\n",
       "      <td>-124.350000</td>\n",
       "      <td>0.149990</td>\n",
       "    </tr>\n",
       "    <tr>\n",
       "      <th>25%</th>\n",
       "      <td>2.566700</td>\n",
       "      <td>18.000000</td>\n",
       "      <td>4.452055</td>\n",
       "      <td>1.006508</td>\n",
       "      <td>789.000000</td>\n",
       "      <td>2.428799</td>\n",
       "      <td>33.930000</td>\n",
       "      <td>-121.810000</td>\n",
       "      <td>1.198000</td>\n",
       "    </tr>\n",
       "    <tr>\n",
       "      <th>50%</th>\n",
       "      <td>3.545800</td>\n",
       "      <td>29.000000</td>\n",
       "      <td>5.235874</td>\n",
       "      <td>1.049286</td>\n",
       "      <td>1167.000000</td>\n",
       "      <td>2.817240</td>\n",
       "      <td>34.260000</td>\n",
       "      <td>-118.510000</td>\n",
       "      <td>1.798500</td>\n",
       "    </tr>\n",
       "    <tr>\n",
       "      <th>75%</th>\n",
       "      <td>4.773175</td>\n",
       "      <td>37.000000</td>\n",
       "      <td>6.061037</td>\n",
       "      <td>1.100348</td>\n",
       "      <td>1726.000000</td>\n",
       "      <td>3.280000</td>\n",
       "      <td>37.720000</td>\n",
       "      <td>-118.010000</td>\n",
       "      <td>2.651250</td>\n",
       "    </tr>\n",
       "    <tr>\n",
       "      <th>max</th>\n",
       "      <td>15.000100</td>\n",
       "      <td>52.000000</td>\n",
       "      <td>141.909091</td>\n",
       "      <td>25.636364</td>\n",
       "      <td>35682.000000</td>\n",
       "      <td>1243.333333</td>\n",
       "      <td>41.950000</td>\n",
       "      <td>-114.310000</td>\n",
       "      <td>5.000010</td>\n",
       "    </tr>\n",
       "  </tbody>\n",
       "</table>\n",
       "</div>"
      ],
      "text/plain": [
       "             MedInc      HouseAge      AveRooms     AveBedrms    Population  \\\n",
       "count  16512.000000  16512.000000  16512.000000  16512.000000  16512.000000   \n",
       "mean       3.880754     28.608285      5.435235      1.096685   1426.453004   \n",
       "std        1.904294     12.602499      2.387375      0.433215   1137.056380   \n",
       "min        0.499900      1.000000      0.888889      0.333333      3.000000   \n",
       "25%        2.566700     18.000000      4.452055      1.006508    789.000000   \n",
       "50%        3.545800     29.000000      5.235874      1.049286   1167.000000   \n",
       "75%        4.773175     37.000000      6.061037      1.100348   1726.000000   \n",
       "max       15.000100     52.000000    141.909091     25.636364  35682.000000   \n",
       "\n",
       "           AveOccup      Latitude     Longitude   MedHouseVal  \n",
       "count  16512.000000  16512.000000  16512.000000  16512.000000  \n",
       "mean       3.096961     35.643149   -119.582290      2.071947  \n",
       "std       11.578744      2.136665      2.005654      1.156226  \n",
       "min        0.692308     32.550000   -124.350000      0.149990  \n",
       "25%        2.428799     33.930000   -121.810000      1.198000  \n",
       "50%        2.817240     34.260000   -118.510000      1.798500  \n",
       "75%        3.280000     37.720000   -118.010000      2.651250  \n",
       "max     1243.333333     41.950000   -114.310000      5.000010  "
      ]
     },
     "execution_count": 16,
     "metadata": {},
     "output_type": "execute_result"
    }
   ],
   "source": [
    "df_train.describe()"
   ]
  },
  {
   "cell_type": "code",
   "execution_count": 17,
   "id": "a4d60c80",
   "metadata": {},
   "outputs": [],
   "source": [
    "df_test = pd.DataFrame(X_test, columns=california.feature_names)\n",
    "df_test[california.target_names[0]] = y_test"
   ]
  },
  {
   "cell_type": "code",
   "execution_count": 18,
   "id": "077d3e18",
   "metadata": {},
   "outputs": [
    {
     "data": {
      "text/html": [
       "<div>\n",
       "<style scoped>\n",
       "    .dataframe tbody tr th:only-of-type {\n",
       "        vertical-align: middle;\n",
       "    }\n",
       "\n",
       "    .dataframe tbody tr th {\n",
       "        vertical-align: top;\n",
       "    }\n",
       "\n",
       "    .dataframe thead th {\n",
       "        text-align: right;\n",
       "    }\n",
       "</style>\n",
       "<table border=\"1\" class=\"dataframe\">\n",
       "  <thead>\n",
       "    <tr style=\"text-align: right;\">\n",
       "      <th></th>\n",
       "      <th>MedInc</th>\n",
       "      <th>HouseAge</th>\n",
       "      <th>AveRooms</th>\n",
       "      <th>AveBedrms</th>\n",
       "      <th>Population</th>\n",
       "      <th>AveOccup</th>\n",
       "      <th>Latitude</th>\n",
       "      <th>Longitude</th>\n",
       "      <th>MedHouseVal</th>\n",
       "    </tr>\n",
       "  </thead>\n",
       "  <tbody>\n",
       "    <tr>\n",
       "      <th>count</th>\n",
       "      <td>4128.000000</td>\n",
       "      <td>4128.000000</td>\n",
       "      <td>4128.000000</td>\n",
       "      <td>4128.000000</td>\n",
       "      <td>4128.000000</td>\n",
       "      <td>4128.000000</td>\n",
       "      <td>4128.00000</td>\n",
       "      <td>4128.00000</td>\n",
       "      <td>4128.000000</td>\n",
       "    </tr>\n",
       "    <tr>\n",
       "      <th>mean</th>\n",
       "      <td>3.830338</td>\n",
       "      <td>28.764293</td>\n",
       "      <td>5.404059</td>\n",
       "      <td>1.096637</td>\n",
       "      <td>1421.571705</td>\n",
       "      <td>2.965431</td>\n",
       "      <td>35.58671</td>\n",
       "      <td>-119.51936</td>\n",
       "      <td>2.055003</td>\n",
       "    </tr>\n",
       "    <tr>\n",
       "      <th>std</th>\n",
       "      <td>1.881515</td>\n",
       "      <td>12.518304</td>\n",
       "      <td>2.794717</td>\n",
       "      <td>0.610196</td>\n",
       "      <td>1114.023136</td>\n",
       "      <td>1.753316</td>\n",
       "      <td>2.13276</td>\n",
       "      <td>1.99447</td>\n",
       "      <td>1.144870</td>\n",
       "    </tr>\n",
       "    <tr>\n",
       "      <th>min</th>\n",
       "      <td>0.499900</td>\n",
       "      <td>1.000000</td>\n",
       "      <td>0.846154</td>\n",
       "      <td>0.500000</td>\n",
       "      <td>8.000000</td>\n",
       "      <td>1.263566</td>\n",
       "      <td>32.54000</td>\n",
       "      <td>-124.19000</td>\n",
       "      <td>0.149990</td>\n",
       "    </tr>\n",
       "    <tr>\n",
       "      <th>25%</th>\n",
       "      <td>2.548500</td>\n",
       "      <td>18.000000</td>\n",
       "      <td>4.396633</td>\n",
       "      <td>1.004338</td>\n",
       "      <td>781.000000</td>\n",
       "      <td>2.435365</td>\n",
       "      <td>33.93000</td>\n",
       "      <td>-121.69000</td>\n",
       "      <td>1.192750</td>\n",
       "    </tr>\n",
       "    <tr>\n",
       "      <th>50%</th>\n",
       "      <td>3.500000</td>\n",
       "      <td>29.000000</td>\n",
       "      <td>5.192764</td>\n",
       "      <td>1.046715</td>\n",
       "      <td>1160.000000</td>\n",
       "      <td>2.823586</td>\n",
       "      <td>34.23000</td>\n",
       "      <td>-118.47000</td>\n",
       "      <td>1.786500</td>\n",
       "    </tr>\n",
       "    <tr>\n",
       "      <th>75%</th>\n",
       "      <td>4.645925</td>\n",
       "      <td>37.000000</td>\n",
       "      <td>6.008889</td>\n",
       "      <td>1.095908</td>\n",
       "      <td>1722.000000</td>\n",
       "      <td>3.289374</td>\n",
       "      <td>37.70000</td>\n",
       "      <td>-117.99000</td>\n",
       "      <td>2.630000</td>\n",
       "    </tr>\n",
       "    <tr>\n",
       "      <th>max</th>\n",
       "      <td>15.000100</td>\n",
       "      <td>52.000000</td>\n",
       "      <td>132.533333</td>\n",
       "      <td>34.066667</td>\n",
       "      <td>16122.000000</td>\n",
       "      <td>83.171429</td>\n",
       "      <td>41.81000</td>\n",
       "      <td>-114.58000</td>\n",
       "      <td>5.000010</td>\n",
       "    </tr>\n",
       "  </tbody>\n",
       "</table>\n",
       "</div>"
      ],
      "text/plain": [
       "            MedInc     HouseAge     AveRooms    AveBedrms    Population  \\\n",
       "count  4128.000000  4128.000000  4128.000000  4128.000000   4128.000000   \n",
       "mean      3.830338    28.764293     5.404059     1.096637   1421.571705   \n",
       "std       1.881515    12.518304     2.794717     0.610196   1114.023136   \n",
       "min       0.499900     1.000000     0.846154     0.500000      8.000000   \n",
       "25%       2.548500    18.000000     4.396633     1.004338    781.000000   \n",
       "50%       3.500000    29.000000     5.192764     1.046715   1160.000000   \n",
       "75%       4.645925    37.000000     6.008889     1.095908   1722.000000   \n",
       "max      15.000100    52.000000   132.533333    34.066667  16122.000000   \n",
       "\n",
       "          AveOccup    Latitude   Longitude  MedHouseVal  \n",
       "count  4128.000000  4128.00000  4128.00000  4128.000000  \n",
       "mean      2.965431    35.58671  -119.51936     2.055003  \n",
       "std       1.753316     2.13276     1.99447     1.144870  \n",
       "min       1.263566    32.54000  -124.19000     0.149990  \n",
       "25%       2.435365    33.93000  -121.69000     1.192750  \n",
       "50%       2.823586    34.23000  -118.47000     1.786500  \n",
       "75%       3.289374    37.70000  -117.99000     2.630000  \n",
       "max      83.171429    41.81000  -114.58000     5.000010  "
      ]
     },
     "execution_count": 18,
     "metadata": {},
     "output_type": "execute_result"
    }
   ],
   "source": [
    "df_test.describe()"
   ]
  },
  {
   "cell_type": "markdown",
   "id": "7a8f8fa7",
   "metadata": {},
   "source": [
    "Je visualise les données train et test pour voir si la répartition est à peu près la même."
   ]
  },
  {
   "cell_type": "code",
   "execution_count": 19,
   "id": "1cb2d4db",
   "metadata": {},
   "outputs": [
    {
     "data": {
      "image/png": "[encoded data removed]",
      "text/plain": [
       "<Figure size 720x504 with 9 Axes>"
      ]
     },
     "metadata": {
      "needs_background": "light"
     },
     "output_type": "display_data"
    }
   ],
   "source": [
    "df_train.hist(bins=50, figsize=(10, 7), label='TrainData')\n",
    "plt.legend()\n",
    "plt.savefig('train_hist.png')\n",
    "plt.show()"
   ]
  },
  {
   "cell_type": "code",
   "execution_count": 20,
   "id": "fed1a1c9",
   "metadata": {},
   "outputs": [
    {
     "data": {
      "image/png": "[encoded data removed]",
      "text/plain": [
       "<Figure size 720x504 with 9 Axes>"
      ]
     },
     "metadata": {
      "needs_background": "light"
     },
     "output_type": "display_data"
    }
   ],
   "source": [
    "df_test.hist(bins=50, figsize=(10, 7), label='TestData')\n",
    "plt.legend()\n",
    "plt.savefig('test_hist.png')\n",
    "plt.show()"
   ]
  },
  {
   "cell_type": "markdown",
   "id": "a7024ac6",
   "metadata": {},
   "source": [
    "Je constate que la répartition entre train et test est à peu près la même"
   ]
  },
  {
   "cell_type": "markdown",
   "id": "0886c1ac",
   "metadata": {},
   "source": [
    "### 7 - savegarder les donnée en csv pour les donnée sans nettoyage"
   ]
  },
  {
   "cell_type": "code",
   "execution_count": 21,
   "id": "2b731e8c",
   "metadata": {},
   "outputs": [],
   "source": [
    "# train data \n",
    "pd.DataFrame(X_train).to_csv(\"X_train.csv\", header=df.columns, index = None)\n",
    "pd.DataFrame(y_train).to_csv(\"y_train.csv\", header=df_price.iloc[:, -1:].columns, index = None)\n",
    "# test data\n",
    "pd.DataFrame(X_test).to_csv(\"X_test.csv\", header=df.columns, index = None)\n",
    "pd.DataFrame(y_test).to_csv(\"y_test.csv\", header=df_price.iloc[:, -1:].columns, index = None)"
   ]
  },
  {
   "cell_type": "code",
   "execution_count": null,
   "id": "38c022f7",
   "metadata": {},
   "outputs": [],
   "source": []
  },
  {
   "cell_type": "markdown",
   "id": "b0030631",
   "metadata": {},
   "source": [
    "j'ai effecutué le nettoyage de données et standardisation ci-dessous, mais ce n'etait pas necessaires."
   ]
  },
  {
   "cell_type": "markdown",
   "id": "9ad599b0",
   "metadata": {},
   "source": [
    "### 8 - nettoyage de données - Supprimer les valeurs aberrantes"
   ]
  },
  {
   "cell_type": "code",
   "execution_count": 22,
   "id": "e2831055",
   "metadata": {},
   "outputs": [],
   "source": [
    "# avant commencer à nettoyer des données de train, je copie le data set\n",
    "df_train_cp = df_train.copy()"
   ]
  },
  {
   "cell_type": "code",
   "execution_count": 23,
   "id": "8aa2b252",
   "metadata": {},
   "outputs": [
    {
     "data": {
      "text/html": [
       "<div>\n",
       "<style scoped>\n",
       "    .dataframe tbody tr th:only-of-type {\n",
       "        vertical-align: middle;\n",
       "    }\n",
       "\n",
       "    .dataframe tbody tr th {\n",
       "        vertical-align: top;\n",
       "    }\n",
       "\n",
       "    .dataframe thead th {\n",
       "        text-align: right;\n",
       "    }\n",
       "</style>\n",
       "<table border=\"1\" class=\"dataframe\">\n",
       "  <thead>\n",
       "    <tr style=\"text-align: right;\">\n",
       "      <th></th>\n",
       "      <th>MedInc</th>\n",
       "      <th>HouseAge</th>\n",
       "      <th>AveRooms</th>\n",
       "      <th>AveBedrms</th>\n",
       "      <th>Population</th>\n",
       "      <th>AveOccup</th>\n",
       "      <th>Latitude</th>\n",
       "      <th>Longitude</th>\n",
       "      <th>MedHouseVal</th>\n",
       "    </tr>\n",
       "  </thead>\n",
       "  <tbody>\n",
       "    <tr>\n",
       "      <th>0</th>\n",
       "      <td>3.2596</td>\n",
       "      <td>33.0</td>\n",
       "      <td>5.017657</td>\n",
       "      <td>1.006421</td>\n",
       "      <td>2300.0</td>\n",
       "      <td>3.691814</td>\n",
       "      <td>32.71</td>\n",
       "      <td>-117.03</td>\n",
       "      <td>1.03</td>\n",
       "    </tr>\n",
       "  </tbody>\n",
       "</table>\n",
       "</div>"
      ],
      "text/plain": [
       "   MedInc  HouseAge  AveRooms  AveBedrms  Population  AveOccup  Latitude  \\\n",
       "0  3.2596      33.0  5.017657   1.006421      2300.0  3.691814     32.71   \n",
       "\n",
       "   Longitude  MedHouseVal  \n",
       "0    -117.03         1.03  "
      ]
     },
     "execution_count": 23,
     "metadata": {},
     "output_type": "execute_result"
    }
   ],
   "source": [
    "df_train_cp.head(1)"
   ]
  },
  {
   "cell_type": "code",
   "execution_count": 24,
   "id": "78895ea2",
   "metadata": {},
   "outputs": [],
   "source": [
    "# Arrondit la valeur d'un attribut donné au nombre entier le plus proche\n",
    "\n",
    "ave_columns = ['AveRooms', 'AveBedrms', 'AveOccup']\n",
    "\n",
    "for col in ave_columns:\n",
    "  df_train_cp[col] = np.round(df_train_cp[col])"
   ]
  },
  {
   "cell_type": "code",
   "execution_count": 25,
   "id": "ac15745b",
   "metadata": {},
   "outputs": [
    {
     "data": {
      "text/html": [
       "<div>\n",
       "<style scoped>\n",
       "    .dataframe tbody tr th:only-of-type {\n",
       "        vertical-align: middle;\n",
       "    }\n",
       "\n",
       "    .dataframe tbody tr th {\n",
       "        vertical-align: top;\n",
       "    }\n",
       "\n",
       "    .dataframe thead th {\n",
       "        text-align: right;\n",
       "    }\n",
       "</style>\n",
       "<table border=\"1\" class=\"dataframe\">\n",
       "  <thead>\n",
       "    <tr style=\"text-align: right;\">\n",
       "      <th></th>\n",
       "      <th>MedInc</th>\n",
       "      <th>HouseAge</th>\n",
       "      <th>AveRooms</th>\n",
       "      <th>AveBedrms</th>\n",
       "      <th>Population</th>\n",
       "      <th>AveOccup</th>\n",
       "      <th>Latitude</th>\n",
       "      <th>Longitude</th>\n",
       "      <th>MedHouseVal</th>\n",
       "    </tr>\n",
       "  </thead>\n",
       "  <tbody>\n",
       "    <tr>\n",
       "      <th>0</th>\n",
       "      <td>3.2596</td>\n",
       "      <td>33.0</td>\n",
       "      <td>5.0</td>\n",
       "      <td>1.0</td>\n",
       "      <td>2300.0</td>\n",
       "      <td>4.0</td>\n",
       "      <td>32.71</td>\n",
       "      <td>-117.03</td>\n",
       "      <td>1.03</td>\n",
       "    </tr>\n",
       "  </tbody>\n",
       "</table>\n",
       "</div>"
      ],
      "text/plain": [
       "   MedInc  HouseAge  AveRooms  AveBedrms  Population  AveOccup  Latitude  \\\n",
       "0  3.2596      33.0       5.0        1.0      2300.0       4.0     32.71   \n",
       "\n",
       "   Longitude  MedHouseVal  \n",
       "0    -117.03         1.03  "
      ]
     },
     "execution_count": 25,
     "metadata": {},
     "output_type": "execute_result"
    }
   ],
   "source": [
    "df_train_cp.head(1)"
   ]
  },
  {
   "cell_type": "code",
   "execution_count": 26,
   "id": "95914f7b",
   "metadata": {},
   "outputs": [
    {
     "data": {
      "image/png": "[encoded data removed]",
      "text/plain": [
       "<Figure size 720x504 with 9 Axes>"
      ]
     },
     "metadata": {
      "needs_background": "light"
     },
     "output_type": "display_data"
    }
   ],
   "source": [
    "df_train_cp.hist(bins=50, figsize=(10, 7), label='TrainData')\n",
    "plt.legend()\n",
    "plt.savefig('train_hist.png')\n",
    "plt.show()"
   ]
  },
  {
   "cell_type": "markdown",
   "id": "0d2456b1",
   "metadata": {},
   "source": [
    "Je constate que max HouseAge et max MedHouseVal(target) sont trop nombreuses. J'assume que ce sont des aberrants dans HouseAge et MedHouseVal(target)."
   ]
  },
  {
   "cell_type": "code",
   "execution_count": 27,
   "id": "fdb71672",
   "metadata": {},
   "outputs": [],
   "source": [
    "df_train_cp = df_train_cp[df_train_cp['HouseAge'] < 52]\n",
    "df_train_cp = df_train_cp[df_train_cp['MedHouseVal'] < 5]"
   ]
  },
  {
   "cell_type": "code",
   "execution_count": 28,
   "id": "2967aa47",
   "metadata": {},
   "outputs": [
    {
     "data": {
      "image/png": "[encoded data removed]",
      "text/plain": [
       "<Figure size 504x216 with 2 Axes>"
      ]
     },
     "metadata": {
      "needs_background": "light"
     },
     "output_type": "display_data"
    }
   ],
   "source": [
    "df_train_cp[['HouseAge', 'MedHouseVal']].hist(bins=50, figsize=(7, 3))\n",
    "plt.savefig('house_price_del_hist.png')\n",
    "plt.show()"
   ]
  },
  {
   "cell_type": "code",
   "execution_count": 29,
   "id": "cb7fe093",
   "metadata": {},
   "outputs": [
    {
     "data": {
      "text/plain": [
       "((14832, 9), (16512, 9))"
      ]
     },
     "execution_count": 29,
     "metadata": {},
     "output_type": "execute_result"
    }
   ],
   "source": [
    "# J'ai enlevé 1680 donnée dans le train comme aberrants.\n",
    "# 16512 - 14832 = 1680\n",
    "df_train_cp.shape, df_train.shape"
   ]
  },
  {
   "cell_type": "code",
   "execution_count": 30,
   "id": "189a1815",
   "metadata": {},
   "outputs": [
    {
     "data": {
      "text/html": [
       "<div>\n",
       "<style scoped>\n",
       "    .dataframe tbody tr th:only-of-type {\n",
       "        vertical-align: middle;\n",
       "    }\n",
       "\n",
       "    .dataframe tbody tr th {\n",
       "        vertical-align: top;\n",
       "    }\n",
       "\n",
       "    .dataframe thead th {\n",
       "        text-align: right;\n",
       "    }\n",
       "</style>\n",
       "<table border=\"1\" class=\"dataframe\">\n",
       "  <thead>\n",
       "    <tr style=\"text-align: right;\">\n",
       "      <th></th>\n",
       "      <th>MedInc</th>\n",
       "      <th>HouseAge</th>\n",
       "      <th>AveRooms</th>\n",
       "      <th>AveBedrms</th>\n",
       "      <th>Population</th>\n",
       "      <th>AveOccup</th>\n",
       "      <th>Latitude</th>\n",
       "      <th>Longitude</th>\n",
       "      <th>MedHouseVal</th>\n",
       "    </tr>\n",
       "  </thead>\n",
       "  <tbody>\n",
       "    <tr>\n",
       "      <th>count</th>\n",
       "      <td>14832.000000</td>\n",
       "      <td>14832.000000</td>\n",
       "      <td>14832.000000</td>\n",
       "      <td>14832.000000</td>\n",
       "      <td>14832.000000</td>\n",
       "      <td>14832.000000</td>\n",
       "      <td>14832.000000</td>\n",
       "      <td>14832.000000</td>\n",
       "      <td>14832.000000</td>\n",
       "    </tr>\n",
       "    <tr>\n",
       "      <th>mean</th>\n",
       "      <td>3.698343</td>\n",
       "      <td>26.933657</td>\n",
       "      <td>5.387608</td>\n",
       "      <td>1.047600</td>\n",
       "      <td>1472.348840</td>\n",
       "      <td>3.141114</td>\n",
       "      <td>35.606286</td>\n",
       "      <td>-119.497554</td>\n",
       "      <td>1.893327</td>\n",
       "    </tr>\n",
       "    <tr>\n",
       "      <th>std</th>\n",
       "      <td>1.571901</td>\n",
       "      <td>11.436305</td>\n",
       "      <td>2.199120</td>\n",
       "      <td>0.408955</td>\n",
       "      <td>1168.621944</td>\n",
       "      <td>12.064158</td>\n",
       "      <td>2.149228</td>\n",
       "      <td>1.983274</td>\n",
       "      <td>0.953274</td>\n",
       "    </tr>\n",
       "    <tr>\n",
       "      <th>min</th>\n",
       "      <td>0.499900</td>\n",
       "      <td>1.000000</td>\n",
       "      <td>1.000000</td>\n",
       "      <td>0.000000</td>\n",
       "      <td>3.000000</td>\n",
       "      <td>1.000000</td>\n",
       "      <td>32.550000</td>\n",
       "      <td>-124.300000</td>\n",
       "      <td>0.149990</td>\n",
       "    </tr>\n",
       "    <tr>\n",
       "      <th>25%</th>\n",
       "      <td>2.536950</td>\n",
       "      <td>17.000000</td>\n",
       "      <td>4.000000</td>\n",
       "      <td>1.000000</td>\n",
       "      <td>813.750000</td>\n",
       "      <td>2.000000</td>\n",
       "      <td>33.920000</td>\n",
       "      <td>-121.580000</td>\n",
       "      <td>1.153000</td>\n",
       "    </tr>\n",
       "    <tr>\n",
       "      <th>50%</th>\n",
       "      <td>3.477300</td>\n",
       "      <td>27.000000</td>\n",
       "      <td>5.000000</td>\n",
       "      <td>1.000000</td>\n",
       "      <td>1206.000000</td>\n",
       "      <td>3.000000</td>\n",
       "      <td>34.250000</td>\n",
       "      <td>-118.460000</td>\n",
       "      <td>1.711000</td>\n",
       "    </tr>\n",
       "    <tr>\n",
       "      <th>75%</th>\n",
       "      <td>4.632450</td>\n",
       "      <td>36.000000</td>\n",
       "      <td>6.000000</td>\n",
       "      <td>1.000000</td>\n",
       "      <td>1783.000000</td>\n",
       "      <td>3.000000</td>\n",
       "      <td>37.680000</td>\n",
       "      <td>-117.970000</td>\n",
       "      <td>2.435250</td>\n",
       "    </tr>\n",
       "    <tr>\n",
       "      <th>max</th>\n",
       "      <td>15.000100</td>\n",
       "      <td>51.000000</td>\n",
       "      <td>62.000000</td>\n",
       "      <td>15.000000</td>\n",
       "      <td>35682.000000</td>\n",
       "      <td>1243.000000</td>\n",
       "      <td>41.950000</td>\n",
       "      <td>-114.310000</td>\n",
       "      <td>4.991000</td>\n",
       "    </tr>\n",
       "  </tbody>\n",
       "</table>\n",
       "</div>"
      ],
      "text/plain": [
       "             MedInc      HouseAge      AveRooms     AveBedrms    Population  \\\n",
       "count  14832.000000  14832.000000  14832.000000  14832.000000  14832.000000   \n",
       "mean       3.698343     26.933657      5.387608      1.047600   1472.348840   \n",
       "std        1.571901     11.436305      2.199120      0.408955   1168.621944   \n",
       "min        0.499900      1.000000      1.000000      0.000000      3.000000   \n",
       "25%        2.536950     17.000000      4.000000      1.000000    813.750000   \n",
       "50%        3.477300     27.000000      5.000000      1.000000   1206.000000   \n",
       "75%        4.632450     36.000000      6.000000      1.000000   1783.000000   \n",
       "max       15.000100     51.000000     62.000000     15.000000  35682.000000   \n",
       "\n",
       "           AveOccup      Latitude     Longitude   MedHouseVal  \n",
       "count  14832.000000  14832.000000  14832.000000  14832.000000  \n",
       "mean       3.141114     35.606286   -119.497554      1.893327  \n",
       "std       12.064158      2.149228      1.983274      0.953274  \n",
       "min        1.000000     32.550000   -124.300000      0.149990  \n",
       "25%        2.000000     33.920000   -121.580000      1.153000  \n",
       "50%        3.000000     34.250000   -118.460000      1.711000  \n",
       "75%        3.000000     37.680000   -117.970000      2.435250  \n",
       "max     1243.000000     41.950000   -114.310000      4.991000  "
      ]
     },
     "execution_count": 30,
     "metadata": {},
     "output_type": "execute_result"
    }
   ],
   "source": [
    "df_train_cp.describe()"
   ]
  },
  {
   "cell_type": "markdown",
   "id": "5c93e6fa",
   "metadata": {},
   "source": [
    "### 9 - savegarder les donnée en csv"
   ]
  },
  {
   "cell_type": "code",
   "execution_count": 31,
   "id": "2820215f",
   "metadata": {},
   "outputs": [],
   "source": [
    "X_train_cleaned = df_train_cp.iloc[:,:-1]\n",
    "y_train_cleaned = df_train_cp.iloc[:, -1:]"
   ]
  },
  {
   "cell_type": "code",
   "execution_count": 32,
   "id": "567a0e5e",
   "metadata": {},
   "outputs": [],
   "source": [
    "# train data sans aberrants, test data\n",
    "X_train_cleaned.to_csv('X_train_cleaned.csv', index=False)\n",
    "y_train_cleaned.to_csv('y_train_cleaned.csv', index=False)"
   ]
  },
  {
   "cell_type": "code",
   "execution_count": 33,
   "id": "553e4a23",
   "metadata": {},
   "outputs": [
    {
     "data": {
      "text/plain": [
       "'# test data\\npd.DataFrame(X_test).to_csv(\"X_test.csv\", header=df.columns, index = None)\\npd.DataFrame(y_test).to_csv(\"y_test.csv\", header=df_price.iloc[:, -1:].columns, index = None)'"
      ]
     },
     "execution_count": 33,
     "metadata": {},
     "output_type": "execute_result"
    }
   ],
   "source": [
    "\"\"\"# test data\n",
    "pd.DataFrame(X_test).to_csv(\"X_test.csv\", header=df.columns, index = None)\n",
    "pd.DataFrame(y_test).to_csv(\"y_test.csv\", header=df_price.iloc[:, -1:].columns, index = None)\"\"\""
   ]
  },
  {
   "cell_type": "code",
   "execution_count": null,
   "id": "792a55d0",
   "metadata": {},
   "outputs": [],
   "source": []
  },
  {
   "cell_type": "markdown",
   "id": "885d76b6",
   "metadata": {},
   "source": [
    "### 10 - Standardisation avec scikit-learn"
   ]
  },
  {
   "cell_type": "markdown",
   "id": "998da822",
   "metadata": {},
   "source": [
    "Random Forest n'est pas  besoin de feature scaling. Ce procedure est pour autres modéles."
   ]
  },
  {
   "cell_type": "code",
   "execution_count": 34,
   "id": "cbb7dc65",
   "metadata": {},
   "outputs": [],
   "source": [
    "X_std = df_train_cp.iloc[:,:-1]\n",
    "y_std = df_train_cp.iloc[:, -1:]"
   ]
  },
  {
   "cell_type": "code",
   "execution_count": 35,
   "id": "ba4414e8",
   "metadata": {},
   "outputs": [],
   "source": [
    "scaler = StandardScaler()"
   ]
  },
  {
   "cell_type": "code",
   "execution_count": 36,
   "id": "d4ed351e",
   "metadata": {},
   "outputs": [],
   "source": [
    "df_train_std = scaler.fit_transform(df_train_cp)"
   ]
  },
  {
   "cell_type": "code",
   "execution_count": 37,
   "id": "b67c357a",
   "metadata": {},
   "outputs": [],
   "source": [
    "X_std = scaler.fit_transform(X_std)"
   ]
  },
  {
   "cell_type": "markdown",
   "id": "092bf7db",
   "metadata": {},
   "source": [
    "J'ai visualisé une exemple ('MedInc') de feature scaling "
   ]
  },
  {
   "cell_type": "code",
   "execution_count": 38,
   "id": "24507a5d",
   "metadata": {},
   "outputs": [
    {
     "data": {
      "image/png": "[encoded data removed]",
      "text/plain": [
       "<Figure size 576x576 with 1 Axes>"
      ]
     },
     "metadata": {
      "needs_background": "light"
     },
     "output_type": "display_data"
    }
   ],
   "source": [
    "plt.figure(figsize = (8, 8))\n",
    "  #タイトル\n",
    "plt.title('standarlisation before and after pour MedInc')\n",
    "  #x軸とy軸の範囲を設定\n",
    "plt.xlim([-8, 8])\n",
    "plt.ylim([-8, 8])\n",
    "  #目盛の刻み\n",
    "plt.xticks(np.arange(-8, 9, 1))\n",
    "plt.yticks(np.arange(-8, 9, 1))\n",
    "  #プロットの設定\n",
    "plt.scatter(df_train_cp.iloc[:,:1], df_train_cp.iloc[:, -1:], c='blue', s=10, label='before', alpha=0.2)\n",
    "plt.scatter(df_train_std[:,:1], df_train_std[:,-1:], c='red', s=10, label='after', alpha=0.2)\n",
    "  #ラベルの設定\n",
    "plt.legend(fontsize = 15)\n",
    "  #中心ラインの設定\n",
    "plt.hlines(0, xmin = -8, xmax = 8, linestyles = 'dashed')\n",
    "plt.vlines(0, ymin = -8, ymax = 8, linestyles = 'dashed')\n",
    "plt.show()"
   ]
  },
  {
   "cell_type": "code",
   "execution_count": 39,
   "id": "45634c2e",
   "metadata": {},
   "outputs": [
    {
     "data": {
      "image/png": "[encoded data removed]",
      "text/plain": [
       "<Figure size 936x360 with 2 Axes>"
      ]
     },
     "metadata": {
      "needs_background": "light"
     },
     "output_type": "display_data"
    }
   ],
   "source": [
    "fig, (ax1, ax2) = plt.subplots(1, 2, figsize=(13, 5))\n",
    "\n",
    "sns.histplot(df_train_cp.iloc[:,:1], kde=False, label='MedInc Before', ax=ax1)\n",
    "sns.histplot(df_train_std[:,:1], kde=False, label='MedInc After', ax=ax2)\n",
    "ax1.legend()\n",
    "ax2.legend()\n",
    "plt.show()"
   ]
  },
  {
   "cell_type": "code",
   "execution_count": null,
   "id": "99291065",
   "metadata": {},
   "outputs": [],
   "source": []
  },
  {
   "cell_type": "markdown",
   "id": "8fff9975",
   "metadata": {},
   "source": [
    "Je constate que la repartition de données ne sont pas changé avant et après le feature scaling(standarlisation)."
   ]
  },
  {
   "cell_type": "markdown",
   "id": "a5ad68d0",
   "metadata": {},
   "source": [
    "je sauvegarde les données."
   ]
  },
  {
   "cell_type": "code",
   "execution_count": 40,
   "id": "0b44e00b",
   "metadata": {},
   "outputs": [],
   "source": [
    "pd.DataFrame(df_train_std).to_csv(\"train_std.csv\", header=df_price.columns, index = None)"
   ]
  },
  {
   "cell_type": "code",
   "execution_count": 41,
   "id": "90b14b20",
   "metadata": {},
   "outputs": [
    {
     "data": {
      "text/plain": [
       "\"# train data sans aberrants, test data\\ndf_train_cp.to_csv('train_without_outlier.csv', index=False)\\ndf_test.to_csv('test.csv', index=False)\""
      ]
     },
     "execution_count": 41,
     "metadata": {},
     "output_type": "execute_result"
    }
   ],
   "source": [
    "\"\"\"# train data sans aberrants, test data\n",
    "df_train_cp.to_csv('train_without_outlier.csv', index=False)\n",
    "df_test.to_csv('test.csv', index=False)\"\"\""
   ]
  },
  {
   "cell_type": "code",
   "execution_count": 42,
   "id": "99fb240e",
   "metadata": {},
   "outputs": [],
   "source": [
    "df_train_std_1 = pd.read_csv('train_std.csv')"
   ]
  },
  {
   "cell_type": "code",
   "execution_count": 43,
   "id": "c4c7cb18",
   "metadata": {},
   "outputs": [
    {
     "data": {
      "text/html": [
       "<div>\n",
       "<style scoped>\n",
       "    .dataframe tbody tr th:only-of-type {\n",
       "        vertical-align: middle;\n",
       "    }\n",
       "\n",
       "    .dataframe tbody tr th {\n",
       "        vertical-align: top;\n",
       "    }\n",
       "\n",
       "    .dataframe thead th {\n",
       "        text-align: right;\n",
       "    }\n",
       "</style>\n",
       "<table border=\"1\" class=\"dataframe\">\n",
       "  <thead>\n",
       "    <tr style=\"text-align: right;\">\n",
       "      <th></th>\n",
       "      <th>MedInc</th>\n",
       "      <th>HouseAge</th>\n",
       "      <th>AveRooms</th>\n",
       "      <th>AveBedrms</th>\n",
       "      <th>Population</th>\n",
       "      <th>AveOccup</th>\n",
       "      <th>Latitude</th>\n",
       "      <th>Longitude</th>\n",
       "      <th>MedHouseVal</th>\n",
       "    </tr>\n",
       "  </thead>\n",
       "  <tbody>\n",
       "    <tr>\n",
       "      <th>0</th>\n",
       "      <td>-0.279126</td>\n",
       "      <td>0.530464</td>\n",
       "      <td>-0.176262</td>\n",
       "      <td>-0.116398</td>\n",
       "      <td>0.708252</td>\n",
       "      <td>0.071196</td>\n",
       "      <td>-1.347639</td>\n",
       "      <td>1.244224</td>\n",
       "      <td>-0.905674</td>\n",
       "    </tr>\n",
       "    <tr>\n",
       "      <th>1</th>\n",
       "      <td>0.072626</td>\n",
       "      <td>1.929564</td>\n",
       "      <td>-0.631004</td>\n",
       "      <td>-0.116398</td>\n",
       "      <td>-0.135505</td>\n",
       "      <td>-0.094590</td>\n",
       "      <td>-0.854422</td>\n",
       "      <td>0.674440</td>\n",
       "      <td>2.022229</td>\n",
       "    </tr>\n",
       "    <tr>\n",
       "      <th>2</th>\n",
       "      <td>0.291349</td>\n",
       "      <td>-2.005406</td>\n",
       "      <td>0.278481</td>\n",
       "      <td>-0.116398</td>\n",
       "      <td>-0.476944</td>\n",
       "      <td>-0.011697</td>\n",
       "      <td>-0.440306</td>\n",
       "      <td>-0.495382</td>\n",
       "      <td>-0.175534</td>\n",
       "    </tr>\n",
       "    <tr>\n",
       "      <th>3</th>\n",
       "      <td>-1.117056</td>\n",
       "      <td>0.792795</td>\n",
       "      <td>-0.631004</td>\n",
       "      <td>-0.116398</td>\n",
       "      <td>-0.046508</td>\n",
       "      <td>0.071196</td>\n",
       "      <td>-1.356945</td>\n",
       "      <td>1.203885</td>\n",
       "      <td>-1.006383</td>\n",
       "    </tr>\n",
       "    <tr>\n",
       "      <th>4</th>\n",
       "      <td>-0.091703</td>\n",
       "      <td>1.404902</td>\n",
       "      <td>0.278481</td>\n",
       "      <td>-0.116398</td>\n",
       "      <td>-0.512030</td>\n",
       "      <td>-0.094590</td>\n",
       "      <td>0.546128</td>\n",
       "      <td>-0.152503</td>\n",
       "      <td>-0.973863</td>\n",
       "    </tr>\n",
       "    <tr>\n",
       "      <th>...</th>\n",
       "      <td>...</td>\n",
       "      <td>...</td>\n",
       "      <td>...</td>\n",
       "      <td>...</td>\n",
       "      <td>...</td>\n",
       "      <td>...</td>\n",
       "      <td>...</td>\n",
       "      <td>...</td>\n",
       "      <td>...</td>\n",
       "    </tr>\n",
       "    <tr>\n",
       "      <th>14827</th>\n",
       "      <td>0.046097</td>\n",
       "      <td>0.617908</td>\n",
       "      <td>-0.176262</td>\n",
       "      <td>-0.116398</td>\n",
       "      <td>-0.112400</td>\n",
       "      <td>0.071196</td>\n",
       "      <td>-0.724138</td>\n",
       "      <td>0.785371</td>\n",
       "      <td>-0.270998</td>\n",
       "    </tr>\n",
       "    <tr>\n",
       "      <th>14828</th>\n",
       "      <td>1.699691</td>\n",
       "      <td>0.705352</td>\n",
       "      <td>0.278481</td>\n",
       "      <td>-0.116398</td>\n",
       "      <td>-0.696869</td>\n",
       "      <td>-0.011697</td>\n",
       "      <td>-0.849769</td>\n",
       "      <td>0.775287</td>\n",
       "      <td>0.418229</td>\n",
       "    </tr>\n",
       "    <tr>\n",
       "      <th>14829</th>\n",
       "      <td>-0.412472</td>\n",
       "      <td>0.530464</td>\n",
       "      <td>0.733223</td>\n",
       "      <td>-0.116398</td>\n",
       "      <td>0.240164</td>\n",
       "      <td>0.071196</td>\n",
       "      <td>-0.738097</td>\n",
       "      <td>1.042530</td>\n",
       "      <td>-0.960225</td>\n",
       "    </tr>\n",
       "    <tr>\n",
       "      <th>14830</th>\n",
       "      <td>-0.486016</td>\n",
       "      <td>0.792795</td>\n",
       "      <td>-0.631004</td>\n",
       "      <td>-0.116398</td>\n",
       "      <td>0.242731</td>\n",
       "      <td>-0.011697</td>\n",
       "      <td>-0.733444</td>\n",
       "      <td>0.563508</td>\n",
       "      <td>0.343746</td>\n",
       "    </tr>\n",
       "    <tr>\n",
       "      <th>14831</th>\n",
       "      <td>1.285656</td>\n",
       "      <td>-1.043524</td>\n",
       "      <td>0.278481</td>\n",
       "      <td>-0.116398</td>\n",
       "      <td>0.260701</td>\n",
       "      <td>-0.011697</td>\n",
       "      <td>0.918367</td>\n",
       "      <td>-1.241648</td>\n",
       "      <td>0.987864</td>\n",
       "    </tr>\n",
       "  </tbody>\n",
       "</table>\n",
       "<p>14832 rows × 9 columns</p>\n",
       "</div>"
      ],
      "text/plain": [
       "         MedInc  HouseAge  AveRooms  AveBedrms  Population  AveOccup  \\\n",
       "0     -0.279126  0.530464 -0.176262  -0.116398    0.708252  0.071196   \n",
       "1      0.072626  1.929564 -0.631004  -0.116398   -0.135505 -0.094590   \n",
       "2      0.291349 -2.005406  0.278481  -0.116398   -0.476944 -0.011697   \n",
       "3     -1.117056  0.792795 -0.631004  -0.116398   -0.046508  0.071196   \n",
       "4     -0.091703  1.404902  0.278481  -0.116398   -0.512030 -0.094590   \n",
       "...         ...       ...       ...        ...         ...       ...   \n",
       "14827  0.046097  0.617908 -0.176262  -0.116398   -0.112400  0.071196   \n",
       "14828  1.699691  0.705352  0.278481  -0.116398   -0.696869 -0.011697   \n",
       "14829 -0.412472  0.530464  0.733223  -0.116398    0.240164  0.071196   \n",
       "14830 -0.486016  0.792795 -0.631004  -0.116398    0.242731 -0.011697   \n",
       "14831  1.285656 -1.043524  0.278481  -0.116398    0.260701 -0.011697   \n",
       "\n",
       "       Latitude  Longitude  MedHouseVal  \n",
       "0     -1.347639   1.244224    -0.905674  \n",
       "1     -0.854422   0.674440     2.022229  \n",
       "2     -0.440306  -0.495382    -0.175534  \n",
       "3     -1.356945   1.203885    -1.006383  \n",
       "4      0.546128  -0.152503    -0.973863  \n",
       "...         ...        ...          ...  \n",
       "14827 -0.724138   0.785371    -0.270998  \n",
       "14828 -0.849769   0.775287     0.418229  \n",
       "14829 -0.738097   1.042530    -0.960225  \n",
       "14830 -0.733444   0.563508     0.343746  \n",
       "14831  0.918367  -1.241648     0.987864  \n",
       "\n",
       "[14832 rows x 9 columns]"
      ]
     },
     "execution_count": 43,
     "metadata": {},
     "output_type": "execute_result"
    }
   ],
   "source": [
    "df_train_std_1"
   ]
  },
  {
   "cell_type": "code",
   "execution_count": null,
   "id": "0e6ae3b3",
   "metadata": {},
   "outputs": [],
   "source": []
  },
  {
   "cell_type": "code",
   "execution_count": null,
   "id": "eeb703b7",
   "metadata": {},
   "outputs": [],
   "source": []
  }
 ],
 "metadata": {
  "kernelspec": {
   "display_name": "Python 3 (ipykernel)",
   "language": "python",
   "name": "python3"
  },
  "language_info": {
   "codemirror_mode": {
    "name": "ipython",
    "version": 3
   },
   "file_extension": ".py",
   "mimetype": "text/x-python",
   "name": "python",
   "nbconvert_exporter": "python",
   "pygments_lexer": "ipython3",
   "version": "3.9.7"
  }
 },
 "nbformat": 4,
 "nbformat_minor": 5
}
