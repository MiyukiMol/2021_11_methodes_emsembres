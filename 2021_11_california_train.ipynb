{
 "cells": [
  {
   "cell_type": "markdown",
   "id": "ed483cda",
   "metadata": {},
   "source": [
    "### 1 - import librarys"
   ]
  },
  {
   "cell_type": "code",
   "execution_count": 29,
   "id": "cbe71db9",
   "metadata": {},
   "outputs": [],
   "source": [
    "import numpy as np\n",
    "import pandas as pd\n",
    "import csv\n",
    "from sklearn.ensemble import RandomForestRegressor\n",
    "from sklearn.metrics import r2_score\n",
    "from sklearn.metrics import mean_squared_error\n",
    "from sklearn.model_selection import cross_validate\n",
    "from sklearn.model_selection import GridSearchCV\n",
    "from joblib import load\n",
    "import matplotlib.pyplot as plt\n",
    "from sklearn.linear_model import LinearRegression\n",
    "from joblib import dump"
   ]
  },
  {
   "cell_type": "markdown",
   "id": "b1de065c",
   "metadata": {},
   "source": [
    "### 2 - set option pour l'affichage"
   ]
  },
  {
   "cell_type": "code",
   "execution_count": 2,
   "id": "1860f6f2",
   "metadata": {},
   "outputs": [],
   "source": [
    "pd.set_option(\"max_columns\", None)\n",
    "pd.set_option(\"max_colwidth\", None)\n",
    "pd.set_option(\"max_row\", 500)"
   ]
  },
  {
   "cell_type": "markdown",
   "id": "a4799eb5",
   "metadata": {},
   "source": [
    "### 3 - Chargement des fichiers et découverte des données"
   ]
  },
  {
   "cell_type": "code",
   "execution_count": 3,
   "id": "b66c972f",
   "metadata": {},
   "outputs": [
    {
     "data": {
      "text/html": [
       "<div>\n",
       "<style scoped>\n",
       "    .dataframe tbody tr th:only-of-type {\n",
       "        vertical-align: middle;\n",
       "    }\n",
       "\n",
       "    .dataframe tbody tr th {\n",
       "        vertical-align: top;\n",
       "    }\n",
       "\n",
       "    .dataframe thead th {\n",
       "        text-align: right;\n",
       "    }\n",
       "</style>\n",
       "<table border=\"1\" class=\"dataframe\">\n",
       "  <thead>\n",
       "    <tr style=\"text-align: right;\">\n",
       "      <th></th>\n",
       "      <th>MedInc</th>\n",
       "      <th>HouseAge</th>\n",
       "      <th>AveRooms</th>\n",
       "      <th>AveBedrms</th>\n",
       "      <th>Population</th>\n",
       "      <th>AveOccup</th>\n",
       "      <th>Latitude</th>\n",
       "      <th>Longitude</th>\n",
       "    </tr>\n",
       "  </thead>\n",
       "  <tbody>\n",
       "    <tr>\n",
       "      <th>0</th>\n",
       "      <td>3.2596</td>\n",
       "      <td>33.0</td>\n",
       "      <td>5.017657</td>\n",
       "      <td>1.006421</td>\n",
       "      <td>2300.0</td>\n",
       "      <td>3.691814</td>\n",
       "      <td>32.71</td>\n",
       "      <td>-117.03</td>\n",
       "    </tr>\n",
       "    <tr>\n",
       "      <th>1</th>\n",
       "      <td>3.8125</td>\n",
       "      <td>49.0</td>\n",
       "      <td>4.473545</td>\n",
       "      <td>1.041005</td>\n",
       "      <td>1314.0</td>\n",
       "      <td>1.738095</td>\n",
       "      <td>33.77</td>\n",
       "      <td>-118.16</td>\n",
       "    </tr>\n",
       "    <tr>\n",
       "      <th>2</th>\n",
       "      <td>4.1563</td>\n",
       "      <td>4.0</td>\n",
       "      <td>5.645833</td>\n",
       "      <td>0.985119</td>\n",
       "      <td>915.0</td>\n",
       "      <td>2.723214</td>\n",
       "      <td>34.66</td>\n",
       "      <td>-120.48</td>\n",
       "    </tr>\n",
       "    <tr>\n",
       "      <th>3</th>\n",
       "      <td>1.9425</td>\n",
       "      <td>36.0</td>\n",
       "      <td>4.002817</td>\n",
       "      <td>1.033803</td>\n",
       "      <td>1418.0</td>\n",
       "      <td>3.994366</td>\n",
       "      <td>32.69</td>\n",
       "      <td>-117.11</td>\n",
       "    </tr>\n",
       "    <tr>\n",
       "      <th>4</th>\n",
       "      <td>3.5542</td>\n",
       "      <td>43.0</td>\n",
       "      <td>6.268421</td>\n",
       "      <td>1.134211</td>\n",
       "      <td>874.0</td>\n",
       "      <td>2.300000</td>\n",
       "      <td>36.78</td>\n",
       "      <td>-119.80</td>\n",
       "    </tr>\n",
       "    <tr>\n",
       "      <th>...</th>\n",
       "      <td>...</td>\n",
       "      <td>...</td>\n",
       "      <td>...</td>\n",
       "      <td>...</td>\n",
       "      <td>...</td>\n",
       "      <td>...</td>\n",
       "      <td>...</td>\n",
       "      <td>...</td>\n",
       "    </tr>\n",
       "    <tr>\n",
       "      <th>16507</th>\n",
       "      <td>6.3700</td>\n",
       "      <td>35.0</td>\n",
       "      <td>6.129032</td>\n",
       "      <td>0.926267</td>\n",
       "      <td>658.0</td>\n",
       "      <td>3.032258</td>\n",
       "      <td>33.78</td>\n",
       "      <td>-117.96</td>\n",
       "    </tr>\n",
       "    <tr>\n",
       "      <th>16508</th>\n",
       "      <td>3.0500</td>\n",
       "      <td>33.0</td>\n",
       "      <td>6.868597</td>\n",
       "      <td>1.269488</td>\n",
       "      <td>1753.0</td>\n",
       "      <td>3.904232</td>\n",
       "      <td>34.02</td>\n",
       "      <td>-117.43</td>\n",
       "    </tr>\n",
       "    <tr>\n",
       "      <th>16509</th>\n",
       "      <td>2.9344</td>\n",
       "      <td>36.0</td>\n",
       "      <td>3.986717</td>\n",
       "      <td>1.079696</td>\n",
       "      <td>1756.0</td>\n",
       "      <td>3.332068</td>\n",
       "      <td>34.03</td>\n",
       "      <td>-118.38</td>\n",
       "    </tr>\n",
       "    <tr>\n",
       "      <th>16510</th>\n",
       "      <td>5.7192</td>\n",
       "      <td>15.0</td>\n",
       "      <td>6.395349</td>\n",
       "      <td>1.067979</td>\n",
       "      <td>1777.0</td>\n",
       "      <td>3.178891</td>\n",
       "      <td>37.58</td>\n",
       "      <td>-121.96</td>\n",
       "    </tr>\n",
       "    <tr>\n",
       "      <th>16511</th>\n",
       "      <td>2.5755</td>\n",
       "      <td>52.0</td>\n",
       "      <td>3.402576</td>\n",
       "      <td>1.058776</td>\n",
       "      <td>2619.0</td>\n",
       "      <td>2.108696</td>\n",
       "      <td>37.77</td>\n",
       "      <td>-122.42</td>\n",
       "    </tr>\n",
       "  </tbody>\n",
       "</table>\n",
       "<p>16512 rows × 8 columns</p>\n",
       "</div>"
      ],
      "text/plain": [
       "       MedInc  HouseAge  AveRooms  AveBedrms  Population  AveOccup  Latitude  \\\n",
       "0      3.2596      33.0  5.017657   1.006421      2300.0  3.691814     32.71   \n",
       "1      3.8125      49.0  4.473545   1.041005      1314.0  1.738095     33.77   \n",
       "2      4.1563       4.0  5.645833   0.985119       915.0  2.723214     34.66   \n",
       "3      1.9425      36.0  4.002817   1.033803      1418.0  3.994366     32.69   \n",
       "4      3.5542      43.0  6.268421   1.134211       874.0  2.300000     36.78   \n",
       "...       ...       ...       ...        ...         ...       ...       ...   \n",
       "16507  6.3700      35.0  6.129032   0.926267       658.0  3.032258     33.78   \n",
       "16508  3.0500      33.0  6.868597   1.269488      1753.0  3.904232     34.02   \n",
       "16509  2.9344      36.0  3.986717   1.079696      1756.0  3.332068     34.03   \n",
       "16510  5.7192      15.0  6.395349   1.067979      1777.0  3.178891     37.58   \n",
       "16511  2.5755      52.0  3.402576   1.058776      2619.0  2.108696     37.77   \n",
       "\n",
       "       Longitude  \n",
       "0        -117.03  \n",
       "1        -118.16  \n",
       "2        -120.48  \n",
       "3        -117.11  \n",
       "4        -119.80  \n",
       "...          ...  \n",
       "16507    -117.96  \n",
       "16508    -117.43  \n",
       "16509    -118.38  \n",
       "16510    -121.96  \n",
       "16511    -122.42  \n",
       "\n",
       "[16512 rows x 8 columns]"
      ]
     },
     "execution_count": 3,
     "metadata": {},
     "output_type": "execute_result"
    }
   ],
   "source": [
    "pd.read_csv('X_train.csv')"
   ]
  },
  {
   "cell_type": "code",
   "execution_count": 4,
   "id": "e2efa9b6",
   "metadata": {},
   "outputs": [],
   "source": [
    "df_X_train = pd.read_csv('X_train.csv')\n",
    "df_y_train = pd.read_csv('y_train.csv')"
   ]
  },
  {
   "cell_type": "code",
   "execution_count": 5,
   "id": "45a90ab1",
   "metadata": {},
   "outputs": [
    {
     "data": {
      "text/html": [
       "<div>\n",
       "<style scoped>\n",
       "    .dataframe tbody tr th:only-of-type {\n",
       "        vertical-align: middle;\n",
       "    }\n",
       "\n",
       "    .dataframe tbody tr th {\n",
       "        vertical-align: top;\n",
       "    }\n",
       "\n",
       "    .dataframe thead th {\n",
       "        text-align: right;\n",
       "    }\n",
       "</style>\n",
       "<table border=\"1\" class=\"dataframe\">\n",
       "  <thead>\n",
       "    <tr style=\"text-align: right;\">\n",
       "      <th></th>\n",
       "      <th>MedInc</th>\n",
       "      <th>HouseAge</th>\n",
       "      <th>AveRooms</th>\n",
       "      <th>AveBedrms</th>\n",
       "      <th>Population</th>\n",
       "      <th>AveOccup</th>\n",
       "      <th>Latitude</th>\n",
       "      <th>Longitude</th>\n",
       "    </tr>\n",
       "  </thead>\n",
       "  <tbody>\n",
       "    <tr>\n",
       "      <th>0</th>\n",
       "      <td>3.2596</td>\n",
       "      <td>33.0</td>\n",
       "      <td>5.017657</td>\n",
       "      <td>1.006421</td>\n",
       "      <td>2300.0</td>\n",
       "      <td>3.691814</td>\n",
       "      <td>32.71</td>\n",
       "      <td>-117.03</td>\n",
       "    </tr>\n",
       "  </tbody>\n",
       "</table>\n",
       "</div>"
      ],
      "text/plain": [
       "   MedInc  HouseAge  AveRooms  AveBedrms  Population  AveOccup  Latitude  \\\n",
       "0  3.2596      33.0  5.017657   1.006421      2300.0  3.691814     32.71   \n",
       "\n",
       "   Longitude  \n",
       "0    -117.03  "
      ]
     },
     "execution_count": 5,
     "metadata": {},
     "output_type": "execute_result"
    }
   ],
   "source": [
    "df_X_train.head(1)"
   ]
  },
  {
   "cell_type": "code",
   "execution_count": 6,
   "id": "5f086b21",
   "metadata": {},
   "outputs": [],
   "source": [
    "X_train = pd.read_csv('X_train.csv')\n",
    "y_train = pd.read_csv('y_train.csv')\n",
    "X_test = pd.read_csv('X_test.csv')\n",
    "y_test = pd.read_csv('y_test.csv')"
   ]
  },
  {
   "cell_type": "markdown",
   "id": "d5b7c4db",
   "metadata": {},
   "source": [
    "### 4 - trouver le best hyperparamètre avec grid search et entrainement avec RandomForestRegressor"
   ]
  },
  {
   "cell_type": "code",
   "execution_count": 7,
   "id": "37740cc6",
   "metadata": {},
   "outputs": [
    {
     "name": "stdout",
     "output_type": "stream",
     "text": [
      "Parameters currently in use:\n",
      "\n",
      "{'bootstrap': True,\n",
      " 'ccp_alpha': 0.0,\n",
      " 'criterion': 'squared_error',\n",
      " 'max_depth': None,\n",
      " 'max_features': 'auto',\n",
      " 'max_leaf_nodes': None,\n",
      " 'max_samples': None,\n",
      " 'min_impurity_decrease': 0.0,\n",
      " 'min_samples_leaf': 1,\n",
      " 'min_samples_split': 2,\n",
      " 'min_weight_fraction_leaf': 0.0,\n",
      " 'n_estimators': 100,\n",
      " 'n_jobs': None,\n",
      " 'oob_score': False,\n",
      " 'random_state': 42,\n",
      " 'verbose': 0,\n",
      " 'warm_start': False}\n"
     ]
    }
   ],
   "source": [
    "rf = RandomForestRegressor(random_state = 42)\n",
    "from pprint import pprint\n",
    "# Look at parameters used by our current forest\n",
    "print('Parameters currently in use:\\n')\n",
    "pprint(rf.get_params())"
   ]
  },
  {
   "cell_type": "markdown",
   "id": "558d98e5",
   "metadata": {},
   "source": [
    "Hyperparamètres à expliquer:\n",
    "- n_estimators : nombre d'arbres\n",
    "- criterion : \n",
    "- max_depth : profondeur max d'un arbre\n",
    "- max_features : nombre max de feature à vérifier pour faire un split dans un arbre(ressemble random subspace)\n",
    "- bootstrap : utilistaion ou non de bootstrap\n",
    "- oob_score ; utilisation ou non du oob_score(dispo qu'avec bootstrap)\n",
    "- n_jobs : nombre de process fait en parallèle\n",
    "- random_state : contrôle l'aléatoire du bootstrapping et des features choisi par le max_feature\n",
    "- warn_start : réutilisation d'une autre forêt\n",
    "- max_samples : "
   ]
  },
  {
   "cell_type": "code",
   "execution_count": 8,
   "id": "c9c4ecd3",
   "metadata": {},
   "outputs": [
    {
     "name": "stdout",
     "output_type": "stream",
     "text": [
      "Fitting 5 folds for each of 2 candidates, totalling 10 fits\n"
     ]
    },
    {
     "name": "stderr",
     "output_type": "stream",
     "text": [
      "C:\\Users\\utilisateur\\anaconda3\\envs\\simplon\\lib\\site-packages\\sklearn\\base.py:445: UserWarning: X does not have valid feature names, but RandomForestRegressor was fitted with feature names\n",
      "  warnings.warn(\n"
     ]
    },
    {
     "name": "stdout",
     "output_type": "stream",
     "text": [
      "[CV] END max_depth=20, max_features=log2, max_samples=0.9, n_estimators=1000, oob_score=True, random_state=42, warm_start=True; total time= 1.7min\n"
     ]
    },
    {
     "name": "stderr",
     "output_type": "stream",
     "text": [
      "C:\\Users\\utilisateur\\anaconda3\\envs\\simplon\\lib\\site-packages\\sklearn\\base.py:445: UserWarning: X does not have valid feature names, but RandomForestRegressor was fitted with feature names\n",
      "  warnings.warn(\n"
     ]
    },
    {
     "name": "stdout",
     "output_type": "stream",
     "text": [
      "[CV] END max_depth=20, max_features=log2, max_samples=0.9, n_estimators=1000, oob_score=True, random_state=42, warm_start=True; total time= 1.6min\n"
     ]
    },
    {
     "name": "stderr",
     "output_type": "stream",
     "text": [
      "C:\\Users\\utilisateur\\anaconda3\\envs\\simplon\\lib\\site-packages\\sklearn\\base.py:445: UserWarning: X does not have valid feature names, but RandomForestRegressor was fitted with feature names\n",
      "  warnings.warn(\n"
     ]
    },
    {
     "name": "stdout",
     "output_type": "stream",
     "text": [
      "[CV] END max_depth=20, max_features=log2, max_samples=0.9, n_estimators=1000, oob_score=True, random_state=42, warm_start=True; total time= 1.6min\n"
     ]
    },
    {
     "name": "stderr",
     "output_type": "stream",
     "text": [
      "C:\\Users\\utilisateur\\anaconda3\\envs\\simplon\\lib\\site-packages\\sklearn\\base.py:445: UserWarning: X does not have valid feature names, but RandomForestRegressor was fitted with feature names\n",
      "  warnings.warn(\n"
     ]
    },
    {
     "name": "stdout",
     "output_type": "stream",
     "text": [
      "[CV] END max_depth=20, max_features=log2, max_samples=0.9, n_estimators=1000, oob_score=True, random_state=42, warm_start=True; total time= 1.6min\n"
     ]
    },
    {
     "name": "stderr",
     "output_type": "stream",
     "text": [
      "C:\\Users\\utilisateur\\anaconda3\\envs\\simplon\\lib\\site-packages\\sklearn\\base.py:445: UserWarning: X does not have valid feature names, but RandomForestRegressor was fitted with feature names\n",
      "  warnings.warn(\n"
     ]
    },
    {
     "name": "stdout",
     "output_type": "stream",
     "text": [
      "[CV] END max_depth=20, max_features=log2, max_samples=0.9, n_estimators=1000, oob_score=True, random_state=42, warm_start=True; total time= 1.6min\n"
     ]
    },
    {
     "name": "stderr",
     "output_type": "stream",
     "text": [
      "C:\\Users\\utilisateur\\anaconda3\\envs\\simplon\\lib\\site-packages\\sklearn\\base.py:445: UserWarning: X does not have valid feature names, but RandomForestRegressor was fitted with feature names\n",
      "  warnings.warn(\n"
     ]
    },
    {
     "name": "stdout",
     "output_type": "stream",
     "text": [
      "[CV] END max_depth=25, max_features=log2, max_samples=0.9, n_estimators=1000, oob_score=True, random_state=42, warm_start=True; total time= 1.7min\n"
     ]
    },
    {
     "name": "stderr",
     "output_type": "stream",
     "text": [
      "C:\\Users\\utilisateur\\anaconda3\\envs\\simplon\\lib\\site-packages\\sklearn\\base.py:445: UserWarning: X does not have valid feature names, but RandomForestRegressor was fitted with feature names\n",
      "  warnings.warn(\n"
     ]
    },
    {
     "name": "stdout",
     "output_type": "stream",
     "text": [
      "[CV] END max_depth=25, max_features=log2, max_samples=0.9, n_estimators=1000, oob_score=True, random_state=42, warm_start=True; total time= 2.1min\n"
     ]
    },
    {
     "name": "stderr",
     "output_type": "stream",
     "text": [
      "C:\\Users\\utilisateur\\anaconda3\\envs\\simplon\\lib\\site-packages\\sklearn\\base.py:445: UserWarning: X does not have valid feature names, but RandomForestRegressor was fitted with feature names\n",
      "  warnings.warn(\n"
     ]
    },
    {
     "name": "stdout",
     "output_type": "stream",
     "text": [
      "[CV] END max_depth=25, max_features=log2, max_samples=0.9, n_estimators=1000, oob_score=True, random_state=42, warm_start=True; total time= 2.3min\n"
     ]
    },
    {
     "name": "stderr",
     "output_type": "stream",
     "text": [
      "C:\\Users\\utilisateur\\anaconda3\\envs\\simplon\\lib\\site-packages\\sklearn\\base.py:445: UserWarning: X does not have valid feature names, but RandomForestRegressor was fitted with feature names\n",
      "  warnings.warn(\n"
     ]
    },
    {
     "name": "stdout",
     "output_type": "stream",
     "text": [
      "[CV] END max_depth=25, max_features=log2, max_samples=0.9, n_estimators=1000, oob_score=True, random_state=42, warm_start=True; total time= 2.0min\n"
     ]
    },
    {
     "name": "stderr",
     "output_type": "stream",
     "text": [
      "C:\\Users\\utilisateur\\anaconda3\\envs\\simplon\\lib\\site-packages\\sklearn\\base.py:445: UserWarning: X does not have valid feature names, but RandomForestRegressor was fitted with feature names\n",
      "  warnings.warn(\n"
     ]
    },
    {
     "name": "stdout",
     "output_type": "stream",
     "text": [
      "[CV] END max_depth=25, max_features=log2, max_samples=0.9, n_estimators=1000, oob_score=True, random_state=42, warm_start=True; total time= 1.9min\n"
     ]
    },
    {
     "name": "stderr",
     "output_type": "stream",
     "text": [
      "C:\\Users\\utilisateur\\anaconda3\\envs\\simplon\\lib\\site-packages\\sklearn\\base.py:445: UserWarning: X does not have valid feature names, but RandomForestRegressor was fitted with feature names\n",
      "  warnings.warn(\n"
     ]
    },
    {
     "data": {
      "text/plain": [
       "GridSearchCV(cv=5, estimator=RandomForestRegressor(),\n",
       "             param_grid=[{'max_depth': [20, 25], 'max_features': ['log2'],\n",
       "                          'max_samples': [0.9], 'n_estimators': [1000],\n",
       "                          'oob_score': [True], 'random_state': [42],\n",
       "                          'warm_start': [True]}],\n",
       "             return_train_score=True, verbose=2)"
      ]
     },
     "execution_count": 8,
     "metadata": {},
     "output_type": "execute_result"
    }
   ],
   "source": [
    "# Number of trees in random forest\n",
    "n_estimators = [1000]\n",
    "# Number of features to consider at every split\n",
    "max_features = ['log2']\n",
    "# Maximum number of levels in tree\n",
    "max_depth = [20,25]\n",
    "# Method of selecting samples for training each tree\n",
    "#bootstrap = [True, False]\n",
    "# Trueに設定すると、前回のフィットの呼び出しの解を再利用し、アンサンブルにさらに推定量を追加します\n",
    "warm_start = [True]\n",
    "# Whether to use out-of-bag samples to estimate the generalization score. Only available if bootstrap=True.\n",
    "oob_score = [True]\n",
    "#criterion = ['mse']\n",
    "max_samples =[0.9]\n",
    "\n",
    "\n",
    "\n",
    "hyper_parameters_grid = [\n",
    "            {'max_depth': max_depth,\n",
    "             'n_estimators': n_estimators,\n",
    "             'max_features': max_features,\n",
    "             #'bootstrap': bootstrap,\n",
    "             'warm_start': warm_start,\n",
    "             'oob_score': oob_score,\n",
    "             #'criterion': criterion,\n",
    "             'max_samples': max_samples,\n",
    "             'random_state': [42]}\n",
    "]\n",
    "\n",
    "forest_reg_5 = RandomForestRegressor()\n",
    "\n",
    "forest_grid_search_5 = GridSearchCV(\n",
    "    estimator = forest_reg_5, \n",
    "    param_grid = hyper_parameters_grid, \n",
    "    cv=5, \n",
    "    return_train_score=True,\n",
    "    verbose=2)\n",
    "\n",
    "forest_grid_search_5.fit(X_train, y_train.values.ravel())"
   ]
  },
  {
   "cell_type": "markdown",
   "id": "9529aa07",
   "metadata": {},
   "source": [
    "### 5 - visualisation de resultat de grid search"
   ]
  },
  {
   "cell_type": "code",
   "execution_count": 9,
   "id": "b8c8de9a",
   "metadata": {},
   "outputs": [
    {
     "data": {
      "text/html": [
       "<div>\n",
       "<style scoped>\n",
       "    .dataframe tbody tr th:only-of-type {\n",
       "        vertical-align: middle;\n",
       "    }\n",
       "\n",
       "    .dataframe tbody tr th {\n",
       "        vertical-align: top;\n",
       "    }\n",
       "\n",
       "    .dataframe thead th {\n",
       "        text-align: right;\n",
       "    }\n",
       "</style>\n",
       "<table border=\"1\" class=\"dataframe\">\n",
       "  <thead>\n",
       "    <tr style=\"text-align: right;\">\n",
       "      <th></th>\n",
       "      <th>0</th>\n",
       "      <th>1</th>\n",
       "    </tr>\n",
       "  </thead>\n",
       "  <tbody>\n",
       "    <tr>\n",
       "      <th>mean_fit_time</th>\n",
       "      <td>93.698774</td>\n",
       "      <td>118.147694</td>\n",
       "    </tr>\n",
       "    <tr>\n",
       "      <th>std_fit_time</th>\n",
       "      <td>2.16885</td>\n",
       "      <td>12.224962</td>\n",
       "    </tr>\n",
       "    <tr>\n",
       "      <th>mean_score_time</th>\n",
       "      <td>2.316937</td>\n",
       "      <td>2.737287</td>\n",
       "    </tr>\n",
       "    <tr>\n",
       "      <th>std_score_time</th>\n",
       "      <td>0.118804</td>\n",
       "      <td>0.423833</td>\n",
       "    </tr>\n",
       "    <tr>\n",
       "      <th>param_max_depth</th>\n",
       "      <td>20</td>\n",
       "      <td>25</td>\n",
       "    </tr>\n",
       "    <tr>\n",
       "      <th>param_max_features</th>\n",
       "      <td>log2</td>\n",
       "      <td>log2</td>\n",
       "    </tr>\n",
       "    <tr>\n",
       "      <th>param_max_samples</th>\n",
       "      <td>0.9</td>\n",
       "      <td>0.9</td>\n",
       "    </tr>\n",
       "    <tr>\n",
       "      <th>param_n_estimators</th>\n",
       "      <td>1000</td>\n",
       "      <td>1000</td>\n",
       "    </tr>\n",
       "    <tr>\n",
       "      <th>param_oob_score</th>\n",
       "      <td>True</td>\n",
       "      <td>True</td>\n",
       "    </tr>\n",
       "    <tr>\n",
       "      <th>param_random_state</th>\n",
       "      <td>42</td>\n",
       "      <td>42</td>\n",
       "    </tr>\n",
       "    <tr>\n",
       "      <th>param_warm_start</th>\n",
       "      <td>True</td>\n",
       "      <td>True</td>\n",
       "    </tr>\n",
       "    <tr>\n",
       "      <th>params</th>\n",
       "      <td>{'max_depth': 20, 'max_features': 'log2', 'max_samples': 0.9, 'n_estimators': 1000, 'oob_score': True, 'random_state': 42, 'warm_start': True}</td>\n",
       "      <td>{'max_depth': 25, 'max_features': 'log2', 'max_samples': 0.9, 'n_estimators': 1000, 'oob_score': True, 'random_state': 42, 'warm_start': True}</td>\n",
       "    </tr>\n",
       "    <tr>\n",
       "      <th>split0_test_score</th>\n",
       "      <td>0.820611</td>\n",
       "      <td>0.821165</td>\n",
       "    </tr>\n",
       "    <tr>\n",
       "      <th>split1_test_score</th>\n",
       "      <td>0.810132</td>\n",
       "      <td>0.810721</td>\n",
       "    </tr>\n",
       "    <tr>\n",
       "      <th>split2_test_score</th>\n",
       "      <td>0.821589</td>\n",
       "      <td>0.822228</td>\n",
       "    </tr>\n",
       "    <tr>\n",
       "      <th>split3_test_score</th>\n",
       "      <td>0.817439</td>\n",
       "      <td>0.817741</td>\n",
       "    </tr>\n",
       "    <tr>\n",
       "      <th>split4_test_score</th>\n",
       "      <td>0.819424</td>\n",
       "      <td>0.818543</td>\n",
       "    </tr>\n",
       "    <tr>\n",
       "      <th>mean_test_score</th>\n",
       "      <td>0.817839</td>\n",
       "      <td>0.81808</td>\n",
       "    </tr>\n",
       "    <tr>\n",
       "      <th>std_test_score</th>\n",
       "      <td>0.004094</td>\n",
       "      <td>0.00403</td>\n",
       "    </tr>\n",
       "    <tr>\n",
       "      <th>rank_test_score</th>\n",
       "      <td>2</td>\n",
       "      <td>1</td>\n",
       "    </tr>\n",
       "    <tr>\n",
       "      <th>split0_train_score</th>\n",
       "      <td>0.967854</td>\n",
       "      <td>0.969508</td>\n",
       "    </tr>\n",
       "    <tr>\n",
       "      <th>split1_train_score</th>\n",
       "      <td>0.968544</td>\n",
       "      <td>0.970294</td>\n",
       "    </tr>\n",
       "    <tr>\n",
       "      <th>split2_train_score</th>\n",
       "      <td>0.968203</td>\n",
       "      <td>0.969884</td>\n",
       "    </tr>\n",
       "    <tr>\n",
       "      <th>split3_train_score</th>\n",
       "      <td>0.968204</td>\n",
       "      <td>0.969926</td>\n",
       "    </tr>\n",
       "    <tr>\n",
       "      <th>split4_train_score</th>\n",
       "      <td>0.967846</td>\n",
       "      <td>0.969451</td>\n",
       "    </tr>\n",
       "    <tr>\n",
       "      <th>mean_train_score</th>\n",
       "      <td>0.96813</td>\n",
       "      <td>0.969812</td>\n",
       "    </tr>\n",
       "    <tr>\n",
       "      <th>std_train_score</th>\n",
       "      <td>0.000261</td>\n",
       "      <td>0.000307</td>\n",
       "    </tr>\n",
       "  </tbody>\n",
       "</table>\n",
       "</div>"
      ],
      "text/plain": [
       "                                                                                                                                                                 0  \\\n",
       "mean_fit_time                                                                                                                                            93.698774   \n",
       "std_fit_time                                                                                                                                               2.16885   \n",
       "mean_score_time                                                                                                                                           2.316937   \n",
       "std_score_time                                                                                                                                            0.118804   \n",
       "param_max_depth                                                                                                                                                 20   \n",
       "param_max_features                                                                                                                                            log2   \n",
       "param_max_samples                                                                                                                                              0.9   \n",
       "param_n_estimators                                                                                                                                            1000   \n",
       "param_oob_score                                                                                                                                               True   \n",
       "param_random_state                                                                                                                                              42   \n",
       "param_warm_start                                                                                                                                              True   \n",
       "params              {'max_depth': 20, 'max_features': 'log2', 'max_samples': 0.9, 'n_estimators': 1000, 'oob_score': True, 'random_state': 42, 'warm_start': True}   \n",
       "split0_test_score                                                                                                                                         0.820611   \n",
       "split1_test_score                                                                                                                                         0.810132   \n",
       "split2_test_score                                                                                                                                         0.821589   \n",
       "split3_test_score                                                                                                                                         0.817439   \n",
       "split4_test_score                                                                                                                                         0.819424   \n",
       "mean_test_score                                                                                                                                           0.817839   \n",
       "std_test_score                                                                                                                                            0.004094   \n",
       "rank_test_score                                                                                                                                                  2   \n",
       "split0_train_score                                                                                                                                        0.967854   \n",
       "split1_train_score                                                                                                                                        0.968544   \n",
       "split2_train_score                                                                                                                                        0.968203   \n",
       "split3_train_score                                                                                                                                        0.968204   \n",
       "split4_train_score                                                                                                                                        0.967846   \n",
       "mean_train_score                                                                                                                                           0.96813   \n",
       "std_train_score                                                                                                                                           0.000261   \n",
       "\n",
       "                                                                                                                                                                 1  \n",
       "mean_fit_time                                                                                                                                           118.147694  \n",
       "std_fit_time                                                                                                                                             12.224962  \n",
       "mean_score_time                                                                                                                                           2.737287  \n",
       "std_score_time                                                                                                                                            0.423833  \n",
       "param_max_depth                                                                                                                                                 25  \n",
       "param_max_features                                                                                                                                            log2  \n",
       "param_max_samples                                                                                                                                              0.9  \n",
       "param_n_estimators                                                                                                                                            1000  \n",
       "param_oob_score                                                                                                                                               True  \n",
       "param_random_state                                                                                                                                              42  \n",
       "param_warm_start                                                                                                                                              True  \n",
       "params              {'max_depth': 25, 'max_features': 'log2', 'max_samples': 0.9, 'n_estimators': 1000, 'oob_score': True, 'random_state': 42, 'warm_start': True}  \n",
       "split0_test_score                                                                                                                                         0.821165  \n",
       "split1_test_score                                                                                                                                         0.810721  \n",
       "split2_test_score                                                                                                                                         0.822228  \n",
       "split3_test_score                                                                                                                                         0.817741  \n",
       "split4_test_score                                                                                                                                         0.818543  \n",
       "mean_test_score                                                                                                                                            0.81808  \n",
       "std_test_score                                                                                                                                             0.00403  \n",
       "rank_test_score                                                                                                                                                  1  \n",
       "split0_train_score                                                                                                                                        0.969508  \n",
       "split1_train_score                                                                                                                                        0.970294  \n",
       "split2_train_score                                                                                                                                        0.969884  \n",
       "split3_train_score                                                                                                                                        0.969926  \n",
       "split4_train_score                                                                                                                                        0.969451  \n",
       "mean_train_score                                                                                                                                          0.969812  \n",
       "std_train_score                                                                                                                                           0.000307  "
      ]
     },
     "execution_count": 9,
     "metadata": {},
     "output_type": "execute_result"
    }
   ],
   "source": [
    "results=pd.DataFrame(forest_grid_search_5.cv_results_)\n",
    "results.T"
   ]
  },
  {
   "cell_type": "markdown",
   "id": "dbd4472a",
   "metadata": {},
   "source": [
    "### 6 - sélection de hyperparametres"
   ]
  },
  {
   "cell_type": "code",
   "execution_count": 10,
   "id": "50bdb9a4",
   "metadata": {},
   "outputs": [
    {
     "data": {
      "text/plain": [
       "{'max_depth': 25,\n",
       " 'max_features': 'log2',\n",
       " 'max_samples': 0.9,\n",
       " 'n_estimators': 1000,\n",
       " 'oob_score': True,\n",
       " 'random_state': 42,\n",
       " 'warm_start': True}"
      ]
     },
     "execution_count": 10,
     "metadata": {},
     "output_type": "execute_result"
    }
   ],
   "source": [
    "# to see the best hyperparameters\n",
    "forest_grid_search_5.best_params_"
   ]
  },
  {
   "cell_type": "markdown",
   "id": "7785797f",
   "metadata": {},
   "source": [
    "### 7 - sélection de best modèle"
   ]
  },
  {
   "cell_type": "code",
   "execution_count": 11,
   "id": "4b4ee212",
   "metadata": {},
   "outputs": [],
   "source": [
    "forest_best_model_5 = forest_grid_search_5.best_estimator_"
   ]
  },
  {
   "cell_type": "markdown",
   "id": "9cd50278",
   "metadata": {},
   "source": [
    "### 8 - save the best modèle"
   ]
  },
  {
   "cell_type": "code",
   "execution_count": 51,
   "id": "df8f3054",
   "metadata": {},
   "outputs": [
    {
     "data": {
      "text/plain": [
       "['model_rf.joblib']"
      ]
     },
     "execution_count": 51,
     "metadata": {},
     "output_type": "execute_result"
    }
   ],
   "source": [
    "filename = 'model_rf.joblib'\n",
    "joblib.dump(forest_best_model_5,filename)"
   ]
  },
  {
   "cell_type": "markdown",
   "id": "c8a7151d",
   "metadata": {},
   "source": [
    "### 9 - performance"
   ]
  },
  {
   "cell_type": "code",
   "execution_count": 29,
   "id": "d73823dc",
   "metadata": {},
   "outputs": [
    {
     "data": {
      "text/plain": [
       "0.9686666427373958"
      ]
     },
     "execution_count": 29,
     "metadata": {},
     "output_type": "execute_result"
    }
   ],
   "source": [
    "#pred_train = forest_best_model_5.predict(X_train)\n",
    "#r2_score(y_train, pred_train)"
   ]
  },
  {
   "cell_type": "code",
   "execution_count": 31,
   "id": "65bcb6cd",
   "metadata": {},
   "outputs": [
    {
     "name": "stdout",
     "output_type": "stream",
     "text": [
      "error moyenne de prix est  48960.3389462084 USD\n"
     ]
    }
   ],
   "source": [
    "# 平均二乗誤差（MSE：Mean Squared Error）とは、各データに対して「予測値と正解値の差（＝誤差）」の二乗値を計算し、\n",
    "# その総和をデータ数で割った値（＝平均値）を出力する関数\n",
    "forest_mse = mean_squared_error(y_train, pred_train)\n",
    "forest_rmse = np.sqrt(forest_mse)\n",
    "print('MSE :',forest_mse)\n",
    "print('RMSE :',forest_rmse)\n",
    "print('error moyenne de prix est ',forest_rmse*100000, 'USD')"
   ]
  },
  {
   "cell_type": "code",
   "execution_count": 13,
   "id": "ca9f7d81",
   "metadata": {},
   "outputs": [
    {
     "data": {
      "text/plain": [
       "0.8180797269450485"
      ]
     },
     "execution_count": 13,
     "metadata": {},
     "output_type": "execute_result"
    }
   ],
   "source": [
    "# to see the best validation score\n",
    "forest_grid_search_5.best_score_"
   ]
  },
  {
   "cell_type": "code",
   "execution_count": 14,
   "id": "d065dcee",
   "metadata": {},
   "outputs": [],
   "source": [
    "y_predict_rf = forest_best_model_5.predict(X_train)"
   ]
  },
  {
   "cell_type": "code",
   "execution_count": 18,
   "id": "75832ad9",
   "metadata": {},
   "outputs": [
    {
     "name": "stdout",
     "output_type": "stream",
     "text": [
      "La performance du modèle pour le jeu d'entrainement\n",
      "--------------------------------------\n",
      "Le score R2 est 0.9707241069934146\n",
      "La RMSE est 0.19782663092182973\n",
      "error moyenne de prix est 19782.66309218297 USD\n"
     ]
    }
   ],
   "source": [
    "#y_predict_rf = forest_best_model_5.predict(X_train)\n",
    "rmse = mean_squared_error(y_train, y_predict_rf, squared=False)\n",
    "#r2 = round(rf_cls.score(X, y),2)\n",
    "r2 = forest_best_model_5.score(X_train, y_train)\n",
    "print(\"La performance du modèle pour le jeu d'entrainement\")\n",
    "print(\"--------------------------------------\")\n",
    "#print(f'La RMSE est {round(rmse,2)}')\n",
    "#print(f'Le score R2 est {round(r2,2)}')\n",
    "print(f'Le score R2 est {r2}')\n",
    "print(f'La RMSE est {rmse}')\n",
    "\n",
    "print(f'error moyenne de prix est {rmse*100000} USD')"
   ]
  },
  {
   "cell_type": "code",
   "execution_count": 23,
   "id": "77f51b19",
   "metadata": {},
   "outputs": [
    {
     "data": {
      "image/png": "[encoded data removed]",
      "text/plain": [
       "<Figure size 720x576 with 1 Axes>"
      ]
     },
     "metadata": {
      "needs_background": "light"
     },
     "output_type": "display_data"
    }
   ],
   "source": [
    "plt.figure(figsize=(10,8))\n",
    "plt.plot(y_train,y_predict_rf,'o')\n",
    "plt.plot(y_train,y_train,label='y=x')\n",
    "plt.xlabel('Median house value réel')\n",
    "plt.ylabel('Median house value prédit')\n",
    "plt.legend()\n",
    "plt.show()"
   ]
  },
  {
   "cell_type": "markdown",
   "id": "74df93cd",
   "metadata": {},
   "source": [
    "### model linear regression"
   ]
  },
  {
   "cell_type": "code",
   "execution_count": 47,
   "id": "8af4b47c",
   "metadata": {},
   "outputs": [
    {
     "data": {
      "text/plain": [
       "['linreg.joblib']"
      ]
     },
     "execution_count": 47,
     "metadata": {},
     "output_type": "execute_result"
    }
   ],
   "source": [
    "linreg=LinearRegression()\n",
    "linreg.fit(X_train,y_train)\n",
    "dump(linreg,'linreg.joblib')"
   ]
  },
  {
   "cell_type": "code",
   "execution_count": 48,
   "id": "a927e156",
   "metadata": {},
   "outputs": [],
   "source": [
    "y_predict=linreg.predict(X_train)"
   ]
  },
  {
   "cell_type": "code",
   "execution_count": 49,
   "id": "680867b6",
   "metadata": {},
   "outputs": [
    {
     "name": "stdout",
     "output_type": "stream",
     "text": [
      "La performance du modèle pour le jeu d'entrainement\n",
      "--------------------------------------\n",
      "La RMSE est 0.72\n",
      "Le score R2 est 0.61\n",
      "error moyenne de prix est 71967.57085831575 USD\n"
     ]
    }
   ],
   "source": [
    "rmse=mean_squared_error(y_train, y_predict, squared=False)\n",
    "r2=round(linreg.score(X_train, y_train),2)\n",
    "\n",
    "print(\"La performance du modèle pour le jeu d'entrainement\")\n",
    "print(\"--------------------------------------\")\n",
    "print(f'La RMSE est {round(rmse,2)}')\n",
    "print(f'Le score R2 est {round(r2,2)}')\n",
    "print(f'error moyenne de prix est {rmse*100000} USD')"
   ]
  },
  {
   "cell_type": "code",
   "execution_count": 43,
   "id": "9c0b2ce5",
   "metadata": {},
   "outputs": [
    {
     "data": {
      "text/plain": [
       "((4128, 1), (4128, 1))"
      ]
     },
     "execution_count": 43,
     "metadata": {},
     "output_type": "execute_result"
    }
   ],
   "source": [
    "y_test.shape, y_predict.shape"
   ]
  },
  {
   "cell_type": "code",
   "execution_count": 50,
   "id": "1f7cdd88",
   "metadata": {},
   "outputs": [
    {
     "data": {
      "image/png": "[encoded data removed]",
      "text/plain": [
       "<Figure size 720x576 with 1 Axes>"
      ]
     },
     "metadata": {
      "needs_background": "light"
     },
     "output_type": "display_data"
    }
   ],
   "source": [
    "plt.figure(figsize=(10,8))\n",
    "plt.plot(y_train,y_predict,'o')\n",
    "plt.plot(y_train,y_train,label='y=x')\n",
    "plt.xlabel('Median house value réel')\n",
    "plt.ylabel('Median house value prédit')\n",
    "plt.legend()\n",
    "plt.show()"
   ]
  },
  {
   "cell_type": "code",
   "execution_count": null,
   "id": "461d18b1",
   "metadata": {},
   "outputs": [],
   "source": []
  },
  {
   "cell_type": "code",
   "execution_count": null,
   "id": "01bfa56e",
   "metadata": {},
   "outputs": [],
   "source": []
  },
  {
   "cell_type": "code",
   "execution_count": null,
   "id": "14131c40",
   "metadata": {},
   "outputs": [],
   "source": []
  },
  {
   "cell_type": "code",
   "execution_count": null,
   "id": "52490fff",
   "metadata": {},
   "outputs": [],
   "source": []
  },
  {
   "cell_type": "code",
   "execution_count": null,
   "id": "9639f6de",
   "metadata": {},
   "outputs": [],
   "source": []
  },
  {
   "cell_type": "code",
   "execution_count": null,
   "id": "2b7a8c80",
   "metadata": {},
   "outputs": [],
   "source": []
  },
  {
   "cell_type": "code",
   "execution_count": null,
   "id": "0534f201",
   "metadata": {},
   "outputs": [],
   "source": []
  },
  {
   "cell_type": "code",
   "execution_count": null,
   "id": "c4c4eab9",
   "metadata": {},
   "outputs": [],
   "source": []
  },
  {
   "cell_type": "code",
   "execution_count": null,
   "id": "e6ea7f19",
   "metadata": {},
   "outputs": [],
   "source": []
  },
  {
   "cell_type": "code",
   "execution_count": null,
   "id": "28f74033",
   "metadata": {},
   "outputs": [],
   "source": []
  },
  {
   "cell_type": "code",
   "execution_count": null,
   "id": "867ba57d",
   "metadata": {},
   "outputs": [],
   "source": []
  }
 ],
 "metadata": {
  "kernelspec": {
   "display_name": "Python 3 (ipykernel)",
   "language": "python",
   "name": "python3"
  },
  "language_info": {
   "codemirror_mode": {
    "name": "ipython",
    "version": 3
   },
   "file_extension": ".py",
   "mimetype": "text/x-python",
   "name": "python",
   "nbconvert_exporter": "python",
   "pygments_lexer": "ipython3",
   "version": "3.9.7"
  }
 },
 "nbformat": 4,
 "nbformat_minor": 5
}
